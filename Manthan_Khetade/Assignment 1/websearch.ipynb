{
 "cells": [
  {
   "cell_type": "code",
   "execution_count": 12,
   "id": "6a3f555d",
   "metadata": {},
   "outputs": [],
   "source": [
    "from langchain_groq import ChatGroq\n",
    "from langchain_tavily import TavilySearch\n",
    "from langgraph.checkpoint.memory import MemorySaver\n",
    "from langchain_community.tools import DuckDuckGoSearchRun, WikipediaQueryRun\n",
    "from langchain_community.utilities import WikipediaAPIWrapper\n",
    "from langchain_core.messages import HumanMessage\n",
    "import typing"
   ]
  },
  {
   "cell_type": "code",
   "execution_count": null,
   "id": "71f34d00",
   "metadata": {},
   "outputs": [],
   "source": [
    "import os\n",
    "\n",
    "os.environ['GROQ_API_KEY'] = \"entergroqapikey\"\n",
    "os.environ['TAVILY_API_KEY'] = \"entertavilyapikey\""
   ]
  },
  {
   "cell_type": "code",
   "execution_count": 4,
   "id": "f97a2d1d",
   "metadata": {},
   "outputs": [],
   "source": [
    "memory = MemorySaver()\n",
    "model = ChatGroq(model_name=\"llama-3.1-8b-instant\", temperature=0)\n",
    "Tavily_search = TavilySearch(max_results=5)\n",
    "DuckDuckGo_search = DuckDuckGoSearchRun(max_results=5)\n",
    "Wikipedia_search = WikipediaQueryRun(api_wrapper=WikipediaAPIWrapper(top_k_results=5))"
   ]
  },
  {
   "cell_type": "code",
   "execution_count": 13,
   "id": "e35de5f1",
   "metadata": {},
   "outputs": [],
   "source": [
    "class WebSearchAgent:\n",
    "    def __init__(self, tavily_search, duckduckgo_search, wikipedia_search, model, memory):\n",
    "        self.tavily_search = tavily_search\n",
    "        self.duckduckgo_search = duckduckgo_search\n",
    "        self.wikipedia_search = wikipedia_search\n",
    "        self.model = model\n",
    "        self.memory = memory\n",
    "\n",
    "    def search_with_fallback(self, query: str) -> typing.Dict[str, typing.Any]:\n",
    "        tavily_result = self.try_tavily_search(query)\n",
    "        if tavily_result and \"response\" in tavily_result:\n",
    "            return {\n",
    "                \"success\": True,\n",
    "                \"response\": tavily_result[\"response\"],\n",
    "                \"search_engine_used\": \"Tavily\"\n",
    "            }\n",
    "        print(\"Tavily search failed, falling back to DuckDuckGo.\")\n",
    "\n",
    "        ddg_result = self.try_duckduckgo_search(query)\n",
    "        if ddg_result and \"response\" in ddg_result:\n",
    "            return {\n",
    "                \"success\": True,\n",
    "                \"response\": ddg_result[\"response\"],\n",
    "                \"search_engine_used\": \"DuckDuckGo\"\n",
    "            }\n",
    "        print(\"DuckDuckGo search failed, falling back to Wikipedia.\")\n",
    "\n",
    "        wiki_result = self.try_wikipedia_search(query)\n",
    "        if wiki_result and \"response\" in wiki_result:\n",
    "            return {\n",
    "                \"success\": True,\n",
    "                \"response\": wiki_result[\"response\"],\n",
    "                \"search_engine_used\": \"Wikipedia\"\n",
    "            }\n",
    "        \n",
    "        print(\"All searches failed.\")\n",
    "        return {\n",
    "            \"success\": False,\n",
    "            \"response\": None,\n",
    "            \"search_engine_used\": \"none\",\n",
    "            \"error\": \"All search engines failed\"\n",
    "        }\n",
    "    \n",
    "    def try_wikipedia_search(self, query: str) -> typing.Dict[str, typing.Any]:\n",
    "        try:\n",
    "            result = self.wikipedia_search.run(query)\n",
    "            return {\n",
    "                \"response\": result,\n",
    "                \"search_engine_used\": \"Wikipedia\"\n",
    "            }\n",
    "        except Exception as e:\n",
    "            print(f\"Wikipedia search error: {e}\")\n",
    "            return {\"error\": str(e)}\n",
    "\n",
    "    def try_tavily_search(self, query: str) -> typing.Dict[str, typing.Any]:\n",
    "        try:\n",
    "            result = self.tavily_search.run(query)\n",
    "            return {\n",
    "                \"response\": result,\n",
    "                \"search_engine_used\": \"Tavily\"\n",
    "            }\n",
    "        except Exception as e:\n",
    "            print(f\"Tavily search error: {e}\")\n",
    "            return {\"error\": str(e)}\n",
    "\n",
    "    def try_duckduckgo_search(self, query: str) -> typing.Dict[str, typing.Any]:\n",
    "        try:\n",
    "            result = self.duckduckgo_search.run(query)\n",
    "            return {\n",
    "                \"response\": result,\n",
    "                \"search_engine_used\": \"DuckDuckGo\"\n",
    "            }\n",
    "        except Exception as e:\n",
    "            print(f\"DuckDuckGo search error: {e}\")\n",
    "            return {\"error\": str(e)}\n",
    "\n",
    "    def query(self, query: str, thread_id: str = \"default\") -> typing.Dict[str, typing.Any]:\n",
    "        try:\n",
    "            print(f\"Processing query: {query}\")\n",
    "            result = self.search_with_fallback(query)\n",
    "            if not result[\"success\"]:\n",
    "                return {\n",
    "                    \"success\": False,\n",
    "                    \"response\": \"I'm sorry, I couldn't retrieve search results due to technical issues. Please try again later.\",\n",
    "                    \"error\": result[\"error\"],\n",
    "                }\n",
    "            config = {\"configurable\": {\"thread_id\": thread_id}}\n",
    "            response = self.model.invoke([HumanMessage(content=f\"Based on this search result: {result['response']}\\n\\nAnswer this question: {query}\")])\n",
    "            return {\n",
    "                \"success\": True,\n",
    "                \"response\": response.content,\n",
    "                \"search_engine_used\": result[\"search_engine_used\"]\n",
    "            }\n",
    "        except Exception as e:\n",
    "            print(f\"Error occurred in query: {e}\")\n",
    "            return {\"error\": str(e)}"
   ]
  },
  {
   "cell_type": "code",
   "execution_count": 14,
   "id": "e2508e96",
   "metadata": {},
   "outputs": [
    {
     "name": "stdout",
     "output_type": "stream",
     "text": [
      "WebSearchAgent initialized successfully!\n"
     ]
    }
   ],
   "source": [
    "web_agent = WebSearchAgent(Tavily_search, DuckDuckGo_search, Wikipedia_search, model, memory)\n",
    "print(\"WebSearchAgent initialized successfully!\")"
   ]
  },
  {
   "cell_type": "code",
   "execution_count": 15,
   "id": "45d9b885",
   "metadata": {},
   "outputs": [
    {
     "name": "stdout",
     "output_type": "stream",
     "text": [
      "Processing query: What is the latest news about AI?\n",
      "Test query result: Based on the search results, here's a summary of the latest news about AI:\n",
      "\n",
      "There are several recent developments in the field of AI. Some of the key news stories include:\n",
      "\n",
      "1. **Microsoft's ChatGPT Update**: OpenAI is updating ChatGPT to better support users in mental distress. This comes after reports that people use the bot during emotional crises.\n",
      "2. **AI Boosts Early Detection of Diabetic Eye Disease**: New research shows that AI can accurately screen for diabetic retinopathy, a leading cause of vision loss.\n",
      "3. **Marketing AI Boom Faces Crisis of Consumer Trust**: There is a growing concern that the marketing AI boom may be facing a crisis of consumer trust.\n",
      "4. **AI Security Wars: Can Google Cloud Defend?**: There is a growing concern about the security of AI systems, with Google Cloud facing questions about its ability to defend against AI security threats.\n",
      "\n",
      "These are just a few examples of the latest news about AI. For more information, you can visit the websites listed in the search results, such as NBC News, Artificial Intelligence News, and The Wall Street Journal.\n"
     ]
    }
   ],
   "source": [
    "test_result = web_agent.query(\"What is the latest news about AI?\")\n",
    "print(f\"Test query result: {test_result['response']}\")"
   ]
  }
 ],
 "metadata": {
  "kernelspec": {
   "display_name": "venv (3.11.9)",
   "language": "python",
   "name": "python3"
  },
  "language_info": {
   "codemirror_mode": {
    "name": "ipython",
    "version": 3
   },
   "file_extension": ".py",
   "mimetype": "text/x-python",
   "name": "python",
   "nbconvert_exporter": "python",
   "pygments_lexer": "ipython3",
   "version": "3.11.9"
  }
 },
 "nbformat": 4,
 "nbformat_minor": 5
}
