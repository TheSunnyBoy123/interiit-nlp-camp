{
 "cells": [
  {
   "cell_type": "markdown",
   "id": "efa12bab",
   "metadata": {},
   "source": [
    "## Task 1 -- Web Search Agents: Implement any 3 web search agents with error handling and fallbacks\n"
   ]
  },
  {
   "cell_type": "code",
   "execution_count": 5,
   "id": "c30ea04c",
   "metadata": {},
   "outputs": [
    {
     "name": "stdout",
     "output_type": "stream",
     "text": [
      "Note: you may need to restart the kernel to use updated packages.\n"
     ]
    }
   ],
   "source": [
    "%pip install -qU langchain langchain-huggingface langchain-cohere sentence-transformers langgraph \"langchain[google-genai]\" langchain_tavily langchain_community"
   ]
  },
  {
   "cell_type": "code",
   "execution_count": 6,
   "id": "a2c9a9fd",
   "metadata": {},
   "outputs": [],
   "source": [
    "from __future__ import annotations\n",
    "import os, time, requests\n",
    "from typing import List, Dict, Optional\n",
    "\n",
    "from bs4 import BeautifulSoup\n",
    "from pydantic import BaseModel\n",
    "\n",
    "from langchain.text_splitter import RecursiveCharacterTextSplitter\n",
    "from langchain_community.vectorstores import FAISS\n",
    "from langchain_huggingface import HuggingFaceEmbeddings\n",
    "from langchain_core.prompts import ChatPromptTemplate\n",
    "from langchain_core.documents import Document\n",
    "\n",
    "from langchain_cohere import ChatCohere"
   ]
  },
  {
   "cell_type": "code",
   "execution_count": 7,
   "id": "5ae3e460",
   "metadata": {},
   "outputs": [],
   "source": [
    "import os\n",
    "from dotenv import load_dotenv\n",
    "\n",
    "load_dotenv()\n",
    "GEMINI_API_KEY = os.environ[\"GEMINI_API_KEY\"]\n",
    "TAVILY_API_KEY = os.environ[\"TAVILY_API_KEY\"]\n",
    "SERPAPI_KEY = os.environ[\"SERPAPI_KEY\"]\n",
    "\n",
    "from langchain_google_genai import ChatGoogleGenerativeAI\n",
    "from langgraph.prebuilt import create_react_agent\n",
    "\n",
    "llm = ChatGoogleGenerativeAI(\n",
    "    model=\"gemini-2.5-flash\",\n",
    "    google_api_key=GEMINI_API_KEY, \n",
    "    temperature=0\n",
    ")\n"
   ]
  },
  {
   "cell_type": "code",
   "execution_count": 8,
   "id": "ad525606",
   "metadata": {},
   "outputs": [],
   "source": [
    "# 1. Tavily Agent\n",
    "from langchain_tavily import TavilySearch\n",
    "\n",
    "tavily_search_tool = TavilySearch(\n",
    "    max_results=5,\n",
    "    topic=\"general\",\n",
    "    api_key=TAVILY_API_KEY\n",
    ")\n",
    "\n",
    "tavily_agent = create_react_agent(llm, [tavily_search_tool])\n",
    "\n",
    "# 2. SerpAPI Agent\n",
    "from langchain_community.utilities import SerpAPIWrapper\n",
    "from langchain_core.tools import Tool\n",
    "\n",
    "serp = SerpAPIWrapper(\n",
    "    serpapi_api_key=SERPAPI_KEY\n",
    ")\n",
    "serp_tool = Tool(\n",
    "    name=\"serpapi-search\",\n",
    "    func=serp.run,\n",
    "    description=\"Search engine powered by SerpAPI\"\n",
    ")\n",
    "\n",
    "serp_agent = create_react_agent(llm, [serp_tool])\n",
    "\n",
    "# 3. DuckDuckGO Agent\n",
    "from langchain_community.tools import DuckDuckGoSearchRun\n",
    "\n",
    "duckduckgo_tool = DuckDuckGoSearchRun()\n",
    "\n",
    "ddg_agent = create_react_agent(llm, [duckduckgo_tool])\n",
    "\n",
    "\n",
    "# Combined Agent\n",
    "agent = create_react_agent(llm, [tavily_search_tool, duckduckgo_tool, serp_tool])\n"
   ]
  },
  {
   "cell_type": "code",
   "execution_count": 9,
   "id": "0f2488ce",
   "metadata": {},
   "outputs": [
    {
     "name": "stdout",
     "output_type": "stream",
     "text": [
      "\n",
      "## Query: What nation hosted Euro 2024? Include only Wikipedia sources.\n",
      "\n",
      "================================\u001b[1m Human Message \u001b[0m=================================\n",
      "\n",
      "What nation hosted Euro 2024? Include only Wikipedia sources.\n",
      "==================================\u001b[1m Ai Message \u001b[0m==================================\n",
      "Tool Calls:\n",
      "  tavily_search (dced30b9-5446-49ba-b371-a6407a52214e)\n",
      " Call ID: dced30b9-5446-49ba-b371-a6407a52214e\n",
      "  Args:\n",
      "    include_domains: ['en.wikipedia.org']\n",
      "    query: Euro 2024 host nation\n",
      "=================================\u001b[1m Tool Message \u001b[0m=================================\n",
      "Name: tavily_search\n",
      "\n",
      "{\"query\": \"Euro 2024 host nation\", \"follow_up_questions\": null, \"answer\": null, \"images\": [], \"results\": [{\"url\": \"https://en.wikipedia.org/wiki/UEFA_Euro_2024\", \"title\": \"UEFA Euro 2024 - Wikipedia\", \"content\": \"It was the third time that European Championship matches were played on German territory, and the second time in reunified Germany, as West Germany hosted the 1988 tournament, and four matches of the multi-national Euro 2020 were played in Munich. Munich, the site of the first game of UEFA Euro 2024, was also a host city at the multi-national UEFA Euro 2020 tournament, hosting four matches (three involving Germany) in front of a greatly reduced number of spectators due to COVID-19 restrictions. UEFA announced the tournament schedule on 10 May 2022, which included kick-off times only for the opening match, semi-finals, and final. On 20 July 2024, after an open vote on the official Euro 2024 website, UEFA announced that Turkish defender Mert Müldür's group stage goal against Georgia had been chosen as the fans' goal of the tournament.\", \"score\": 0.84246206, \"raw_content\": null}, {\"url\": \"https://en.wikipedia.org/wiki/2024_EMF_EURO\", \"title\": \"2024 EMF EURO - Wikipedia\", \"content\": \"*   Download QR code | Bosnia and Herzegovina\\\")Image 14 | 3–2 | Image 15Albania\\\") | | Slovenia\\\")Image 24 | 0–5 | Image 25Bosnia and Herzegovina\\\") | | Bosnia and Herzegovina\\\")Image 43 | 1–5 | Image 44Montenegro\\\") | Image 13036' | | AzerbaijanImage 228 | 3–1 | Image 229France\\\") | **Image 264Kazakhstan\\\")****1** | RomaniaImage 272 | 3–0 | Image 273Georgia\\\") | | RomaniaImage 351 | 4–1 | Image 352Bosnia and Herzegovina\\\") | | Serbia\\\")Image 363 | 5–0 | Image 364France\\\") | | RomaniaImage 370 | 1–1 | Image 371Kazakhstan\\\") | | France\\\")Image 379 | 2–7 | Image 380Kazakhstan\\\") | 2.   **^**\\\"Sarajevo Bosnia and Herzegovina, is the host of EMF EURO 2024\\\". By using this site, you agree to the Terms of Use and Privacy Policy.\", \"score\": 0.76194656, \"raw_content\": null}, {\"url\": \"https://en.wikipedia.org/wiki/UEFA_Euro_2024_squads\", \"title\": \"UEFA Euro 2024 squads - Wikipedia\", \"content\": \"UEFA Euro 2024 squads UEFA Euro 2024 was an international football tournament held in Germany that took place from 14 June to 14 July 2024. The 24 national teams involved in the tournament were required to register a squad of 23 to 26 players – of which three had to be goalkeepers – by 7 June 2024, 23:59 CEST (UTC+2), seven days prior to the opening match of the tournament. [1] Only players in these squads were eligible to take part in the tournament. [2] IInitially, regulations required teams to consist of 23 players, but this was amended by UEFA Executive Committee on 3 May 2024.\", \"score\": 0.74251556, \"raw_content\": null}, {\"url\": \"https://en.wikipedia.org/wiki/2024_Women%27s_Euro_Winners_Cup\", \"title\": \"2024 Women's Euro Winners Cup - Wikipedia\", \"content\": \"2024 Women's Euro Winners Cup. Tournament details. Host country, Portugal. Dates, 10–16 June. Teams, 24 (from 1 confederation). Venue(s), 4 (in 1 host city).\", \"score\": 0.6768127, \"raw_content\": null}, {\"url\": \"https://en.wikipedia.org/wiki/UEFA_Euro_2024_bids\", \"title\": \"UEFA Euro 2024 bids - Wikipedia\", \"content\": \"Previously, UEFA Euro 1988 had been held in West Germany, as well as the 1974 FIFA World Cup and the 2006 FIFA World Cup. German media has also reported that the DFB was willing to let Wembley Stadium host the final for UEFA Euro 2020, in return for support from The Football Association for Germany's 2024 bid.\", \"score\": 0.66777676, \"raw_content\": null}], \"response_time\": 0.89, \"request_id\": \"2a8ae495-03d8-4710-8122-6b2eb30c7c13\"}\n",
      "==================================\u001b[1m Ai Message \u001b[0m==================================\n",
      "\n",
      "Germany hosted Euro 2024. It was the third time European Championship matches were played on German territory, and the second time in reunified Germany.\n"
     ]
    }
   ],
   "source": [
    "def safe_query(user_input: str):\n",
    "    \"\"\"Query the multi-agent with fallback + markdown pretty print.\"\"\"\n",
    "    try:\n",
    "        print(f\"\\n## Query: {user_input}\\n\")\n",
    "        for step in agent.stream({\"messages\": user_input}, stream_mode=\"values\"):\n",
    "            step[\"messages\"][-1].pretty_print()\n",
    "    except Exception as e:\n",
    "        print(f\"\\n **Primary agent failed:** {e}\\n\")\n",
    "        # Fallback: DuckDuckGo\n",
    "        try:\n",
    "            print(\"### Fallback: DuckDuckGo Search\\n\")\n",
    "            print(duckduckgo_tool.run(user_input))\n",
    "        except Exception as e2:\n",
    "            print(f\" **All search methods failed:** {e2}\")\n",
    "\n",
    "\n",
    "# Example run\n",
    "safe_query(\"What nation hosted Euro 2024? Include only Wikipedia sources.\")\n"
   ]
  }
 ],
 "metadata": {
  "kernelspec": {
   "display_name": "base",
   "language": "python",
   "name": "python3"
  },
  "language_info": {
   "codemirror_mode": {
    "name": "ipython",
    "version": 3
   },
   "file_extension": ".py",
   "mimetype": "text/x-python",
   "name": "python",
   "nbconvert_exporter": "python",
   "pygments_lexer": "ipython3",
   "version": "3.13.5"
  }
 },
 "nbformat": 4,
 "nbformat_minor": 5
}
