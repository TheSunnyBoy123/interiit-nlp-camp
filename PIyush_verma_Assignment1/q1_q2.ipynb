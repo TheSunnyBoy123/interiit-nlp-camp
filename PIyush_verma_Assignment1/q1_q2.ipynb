{
 "cells": [
  {
   "cell_type": "code",
   "execution_count": 3,
   "id": "ebc9a39e",
   "metadata": {},
   "outputs": [],
   "source": [
    "from typing_extensions import TypedDict\n"
   ]
  },
  {
   "cell_type": "code",
   "execution_count": 2,
   "id": "b5782556",
   "metadata": {},
   "outputs": [
    {
     "name": "stdout",
     "output_type": "stream",
     "text": [
      "Collecting langgraph\n",
      "  Downloading langgraph-0.6.5-py3-none-any.whl.metadata (6.8 kB)\n",
      "Collecting langchain-core>=0.1 (from langgraph)\n",
      "  Downloading langchain_core-0.3.74-py3-none-any.whl.metadata (5.8 kB)\n",
      "Collecting langgraph-checkpoint<3.0.0,>=2.1.0 (from langgraph)\n",
      "  Downloading langgraph_checkpoint-2.1.1-py3-none-any.whl.metadata (4.2 kB)\n",
      "Collecting langgraph-prebuilt<0.7.0,>=0.6.0 (from langgraph)\n",
      "  Downloading langgraph_prebuilt-0.6.4-py3-none-any.whl.metadata (4.5 kB)\n",
      "Collecting langgraph-sdk<0.3.0,>=0.2.0 (from langgraph)\n",
      "  Downloading langgraph_sdk-0.2.0-py3-none-any.whl.metadata (1.5 kB)\n",
      "Requirement already satisfied: pydantic>=2.7.4 in c:\\users\\piyus\\appdata\\local\\packages\\pythonsoftwarefoundation.python.3.11_qbz5n2kfra8p0\\localcache\\local-packages\\python311\\site-packages (from langgraph) (2.11.7)\n",
      "Requirement already satisfied: xxhash>=3.5.0 in c:\\users\\piyus\\appdata\\local\\packages\\pythonsoftwarefoundation.python.3.11_qbz5n2kfra8p0\\localcache\\local-packages\\python311\\site-packages (from langgraph) (3.5.0)\n",
      "Collecting langsmith>=0.3.45 (from langchain-core>=0.1->langgraph)\n",
      "  Downloading langsmith-0.4.14-py3-none-any.whl.metadata (14 kB)\n",
      "Collecting tenacity!=8.4.0,<10.0.0,>=8.1.0 (from langchain-core>=0.1->langgraph)\n",
      "  Using cached tenacity-9.1.2-py3-none-any.whl.metadata (1.2 kB)\n",
      "Collecting jsonpatch<2.0,>=1.33 (from langchain-core>=0.1->langgraph)\n",
      "  Using cached jsonpatch-1.33-py2.py3-none-any.whl.metadata (3.0 kB)\n",
      "Requirement already satisfied: PyYAML>=5.3 in c:\\users\\piyus\\appdata\\local\\packages\\pythonsoftwarefoundation.python.3.11_qbz5n2kfra8p0\\localcache\\local-packages\\python311\\site-packages (from langchain-core>=0.1->langgraph) (6.0.2)\n",
      "Requirement already satisfied: typing-extensions>=4.7 in c:\\users\\piyus\\appdata\\local\\packages\\pythonsoftwarefoundation.python.3.11_qbz5n2kfra8p0\\localcache\\local-packages\\python311\\site-packages (from langchain-core>=0.1->langgraph) (4.12.2)\n",
      "Requirement already satisfied: packaging>=23.2 in c:\\users\\piyus\\appdata\\local\\packages\\pythonsoftwarefoundation.python.3.11_qbz5n2kfra8p0\\localcache\\local-packages\\python311\\site-packages (from langchain-core>=0.1->langgraph) (24.2)\n",
      "Collecting ormsgpack>=1.10.0 (from langgraph-checkpoint<3.0.0,>=2.1.0->langgraph)\n",
      "  Downloading ormsgpack-1.10.0-cp311-cp311-win_amd64.whl.metadata (44 kB)\n",
      "Requirement already satisfied: httpx>=0.25.2 in c:\\users\\piyus\\appdata\\local\\packages\\pythonsoftwarefoundation.python.3.11_qbz5n2kfra8p0\\localcache\\local-packages\\python311\\site-packages (from langgraph-sdk<0.3.0,>=0.2.0->langgraph) (0.28.0)\n",
      "Collecting orjson>=3.10.1 (from langgraph-sdk<0.3.0,>=0.2.0->langgraph)\n",
      "  Downloading orjson-3.11.2-cp311-cp311-win_amd64.whl.metadata (1.2 kB)\n",
      "Requirement already satisfied: annotated-types>=0.6.0 in c:\\users\\piyus\\appdata\\local\\packages\\pythonsoftwarefoundation.python.3.11_qbz5n2kfra8p0\\localcache\\local-packages\\python311\\site-packages (from pydantic>=2.7.4->langgraph) (0.7.0)\n",
      "Requirement already satisfied: pydantic-core==2.33.2 in c:\\users\\piyus\\appdata\\local\\packages\\pythonsoftwarefoundation.python.3.11_qbz5n2kfra8p0\\localcache\\local-packages\\python311\\site-packages (from pydantic>=2.7.4->langgraph) (2.33.2)\n",
      "Requirement already satisfied: typing-inspection>=0.4.0 in c:\\users\\piyus\\appdata\\local\\packages\\pythonsoftwarefoundation.python.3.11_qbz5n2kfra8p0\\localcache\\local-packages\\python311\\site-packages (from pydantic>=2.7.4->langgraph) (0.4.1)\n",
      "Requirement already satisfied: anyio in c:\\users\\piyus\\appdata\\local\\packages\\pythonsoftwarefoundation.python.3.11_qbz5n2kfra8p0\\localcache\\local-packages\\python311\\site-packages (from httpx>=0.25.2->langgraph-sdk<0.3.0,>=0.2.0->langgraph) (4.6.2.post1)\n",
      "Requirement already satisfied: certifi in c:\\users\\piyus\\appdata\\local\\packages\\pythonsoftwarefoundation.python.3.11_qbz5n2kfra8p0\\localcache\\local-packages\\python311\\site-packages (from httpx>=0.25.2->langgraph-sdk<0.3.0,>=0.2.0->langgraph) (2024.8.30)\n",
      "Requirement already satisfied: httpcore==1.* in c:\\users\\piyus\\appdata\\local\\packages\\pythonsoftwarefoundation.python.3.11_qbz5n2kfra8p0\\localcache\\local-packages\\python311\\site-packages (from httpx>=0.25.2->langgraph-sdk<0.3.0,>=0.2.0->langgraph) (1.0.7)\n",
      "Requirement already satisfied: idna in c:\\users\\piyus\\appdata\\local\\packages\\pythonsoftwarefoundation.python.3.11_qbz5n2kfra8p0\\localcache\\local-packages\\python311\\site-packages (from httpx>=0.25.2->langgraph-sdk<0.3.0,>=0.2.0->langgraph) (3.10)\n",
      "Requirement already satisfied: h11<0.15,>=0.13 in c:\\users\\piyus\\appdata\\local\\packages\\pythonsoftwarefoundation.python.3.11_qbz5n2kfra8p0\\localcache\\local-packages\\python311\\site-packages (from httpcore==1.*->httpx>=0.25.2->langgraph-sdk<0.3.0,>=0.2.0->langgraph) (0.14.0)\n",
      "Requirement already satisfied: jsonpointer>=1.9 in c:\\users\\piyus\\appdata\\local\\packages\\pythonsoftwarefoundation.python.3.11_qbz5n2kfra8p0\\localcache\\local-packages\\python311\\site-packages (from jsonpatch<2.0,>=1.33->langchain-core>=0.1->langgraph) (3.0.0)\n",
      "Collecting requests-toolbelt>=1.0.0 (from langsmith>=0.3.45->langchain-core>=0.1->langgraph)\n",
      "  Using cached requests_toolbelt-1.0.0-py2.py3-none-any.whl.metadata (14 kB)\n",
      "Requirement already satisfied: requests>=2.0.0 in c:\\users\\piyus\\appdata\\local\\packages\\pythonsoftwarefoundation.python.3.11_qbz5n2kfra8p0\\localcache\\local-packages\\python311\\site-packages (from langsmith>=0.3.45->langchain-core>=0.1->langgraph) (2.32.3)\n",
      "Collecting zstandard>=0.23.0 (from langsmith>=0.3.45->langchain-core>=0.1->langgraph)\n",
      "  Using cached zstandard-0.23.0-cp311-cp311-win_amd64.whl.metadata (3.0 kB)\n",
      "Requirement already satisfied: charset-normalizer<4,>=2 in c:\\users\\piyus\\appdata\\local\\packages\\pythonsoftwarefoundation.python.3.11_qbz5n2kfra8p0\\localcache\\local-packages\\python311\\site-packages (from requests>=2.0.0->langsmith>=0.3.45->langchain-core>=0.1->langgraph) (3.4.0)\n",
      "Requirement already satisfied: urllib3<3,>=1.21.1 in c:\\users\\piyus\\appdata\\local\\packages\\pythonsoftwarefoundation.python.3.11_qbz5n2kfra8p0\\localcache\\local-packages\\python311\\site-packages (from requests>=2.0.0->langsmith>=0.3.45->langchain-core>=0.1->langgraph) (2.2.3)\n",
      "Requirement already satisfied: sniffio>=1.1 in c:\\users\\piyus\\appdata\\local\\packages\\pythonsoftwarefoundation.python.3.11_qbz5n2kfra8p0\\localcache\\local-packages\\python311\\site-packages (from anyio->httpx>=0.25.2->langgraph-sdk<0.3.0,>=0.2.0->langgraph) (1.3.1)\n",
      "Downloading langgraph-0.6.5-py3-none-any.whl (153 kB)\n",
      "Downloading langchain_core-0.3.74-py3-none-any.whl (443 kB)\n",
      "Downloading langgraph_checkpoint-2.1.1-py3-none-any.whl (43 kB)\n",
      "Downloading langgraph_prebuilt-0.6.4-py3-none-any.whl (28 kB)\n",
      "Downloading langgraph_sdk-0.2.0-py3-none-any.whl (50 kB)\n",
      "Using cached jsonpatch-1.33-py2.py3-none-any.whl (12 kB)\n",
      "Downloading langsmith-0.4.14-py3-none-any.whl (373 kB)\n",
      "Downloading orjson-3.11.2-cp311-cp311-win_amd64.whl (119 kB)\n",
      "Downloading ormsgpack-1.10.0-cp311-cp311-win_amd64.whl (121 kB)\n",
      "Using cached tenacity-9.1.2-py3-none-any.whl (28 kB)\n",
      "Using cached requests_toolbelt-1.0.0-py2.py3-none-any.whl (54 kB)\n",
      "Using cached zstandard-0.23.0-cp311-cp311-win_amd64.whl (495 kB)\n",
      "Installing collected packages: zstandard, tenacity, ormsgpack, orjson, jsonpatch, requests-toolbelt, langsmith, langgraph-sdk, langchain-core, langgraph-checkpoint, langgraph-prebuilt, langgraph\n",
      "Successfully installed jsonpatch-1.33 langchain-core-0.3.74 langgraph-0.6.5 langgraph-checkpoint-2.1.1 langgraph-prebuilt-0.6.4 langgraph-sdk-0.2.0 langsmith-0.4.14 orjson-3.11.2 ormsgpack-1.10.0 requests-toolbelt-1.0.0 tenacity-9.1.2 zstandard-0.23.0\n",
      "Note: you may need to restart the kernel to use updated packages.\n"
     ]
    },
    {
     "name": "stderr",
     "output_type": "stream",
     "text": [
      "\n",
      "[notice] A new release of pip is available: 24.3.1 -> 25.2\n",
      "[notice] To update, run: C:\\Users\\piyus\\AppData\\Local\\Microsoft\\WindowsApps\\PythonSoftwareFoundation.Python.3.11_qbz5n2kfra8p0\\python.exe -m pip install --upgrade pip\n"
     ]
    }
   ],
   "source": [
    "%pip install langgraph"
   ]
  },
  {
   "cell_type": "code",
   "execution_count": 4,
   "id": "792f42df",
   "metadata": {},
   "outputs": [],
   "source": [
    "from langgraph.graph import StateGraph,START,END"
   ]
  },
  {
   "cell_type": "code",
   "execution_count": 5,
   "id": "07b6d084",
   "metadata": {},
   "outputs": [],
   "source": [
    "class state(TypedDict):\n",
    "    query: str\n",
    "    Answer:str\n",
    "    error:str\n",
    "    urls:list[str] ##used in qtn 2"
   ]
  },
  {
   "cell_type": "code",
   "execution_count": 7,
   "id": "7b3b072f",
   "metadata": {},
   "outputs": [],
   "source": [
    "import requests"
   ]
  },
  {
   "cell_type": "code",
   "execution_count": 8,
   "id": "af35d137",
   "metadata": {},
   "outputs": [
    {
     "name": "stdout",
     "output_type": "stream",
     "text": [
      "Requirement already satisfied: google-api-python-client in c:\\users\\piyus\\appdata\\local\\packages\\pythonsoftwarefoundation.python.3.11_qbz5n2kfra8p0\\localcache\\local-packages\\python311\\site-packages (2.179.0)\n",
      "Requirement already satisfied: httplib2<1.0.0,>=0.19.0 in c:\\users\\piyus\\appdata\\local\\packages\\pythonsoftwarefoundation.python.3.11_qbz5n2kfra8p0\\localcache\\local-packages\\python311\\site-packages (from google-api-python-client) (0.22.0)\n",
      "Requirement already satisfied: google-auth!=2.24.0,!=2.25.0,<3.0.0,>=1.32.0 in c:\\users\\piyus\\appdata\\local\\packages\\pythonsoftwarefoundation.python.3.11_qbz5n2kfra8p0\\localcache\\local-packages\\python311\\site-packages (from google-api-python-client) (2.40.3)\n",
      "Requirement already satisfied: google-auth-httplib2<1.0.0,>=0.2.0 in c:\\users\\piyus\\appdata\\local\\packages\\pythonsoftwarefoundation.python.3.11_qbz5n2kfra8p0\\localcache\\local-packages\\python311\\site-packages (from google-api-python-client) (0.2.0)\n",
      "Requirement already satisfied: google-api-core!=2.0.*,!=2.1.*,!=2.2.*,!=2.3.0,<3.0.0,>=1.31.5 in c:\\users\\piyus\\appdata\\local\\packages\\pythonsoftwarefoundation.python.3.11_qbz5n2kfra8p0\\localcache\\local-packages\\python311\\site-packages (from google-api-python-client) (2.25.1)\n",
      "Requirement already satisfied: uritemplate<5,>=3.0.1 in c:\\users\\piyus\\appdata\\local\\packages\\pythonsoftwarefoundation.python.3.11_qbz5n2kfra8p0\\localcache\\local-packages\\python311\\site-packages (from google-api-python-client) (4.2.0)\n",
      "Requirement already satisfied: googleapis-common-protos<2.0.0,>=1.56.2 in c:\\users\\piyus\\appdata\\local\\packages\\pythonsoftwarefoundation.python.3.11_qbz5n2kfra8p0\\localcache\\local-packages\\python311\\site-packages (from google-api-core!=2.0.*,!=2.1.*,!=2.2.*,!=2.3.0,<3.0.0,>=1.31.5->google-api-python-client) (1.70.0)\n",
      "Requirement already satisfied: protobuf!=3.20.0,!=3.20.1,!=4.21.0,!=4.21.1,!=4.21.2,!=4.21.3,!=4.21.4,!=4.21.5,<7.0.0,>=3.19.5 in c:\\users\\piyus\\appdata\\local\\packages\\pythonsoftwarefoundation.python.3.11_qbz5n2kfra8p0\\localcache\\local-packages\\python311\\site-packages (from google-api-core!=2.0.*,!=2.1.*,!=2.2.*,!=2.3.0,<3.0.0,>=1.31.5->google-api-python-client) (4.25.8)\n",
      "Requirement already satisfied: proto-plus<2.0.0,>=1.22.3 in c:\\users\\piyus\\appdata\\local\\packages\\pythonsoftwarefoundation.python.3.11_qbz5n2kfra8p0\\localcache\\local-packages\\python311\\site-packages (from google-api-core!=2.0.*,!=2.1.*,!=2.2.*,!=2.3.0,<3.0.0,>=1.31.5->google-api-python-client) (1.26.1)\n",
      "Requirement already satisfied: requests<3.0.0,>=2.18.0 in c:\\users\\piyus\\appdata\\local\\packages\\pythonsoftwarefoundation.python.3.11_qbz5n2kfra8p0\\localcache\\local-packages\\python311\\site-packages (from google-api-core!=2.0.*,!=2.1.*,!=2.2.*,!=2.3.0,<3.0.0,>=1.31.5->google-api-python-client) (2.32.5)\n",
      "Requirement already satisfied: cachetools<6.0,>=2.0.0 in c:\\users\\piyus\\appdata\\local\\packages\\pythonsoftwarefoundation.python.3.11_qbz5n2kfra8p0\\localcache\\local-packages\\python311\\site-packages (from google-auth!=2.24.0,!=2.25.0,<3.0.0,>=1.32.0->google-api-python-client) (5.5.2)\n",
      "Requirement already satisfied: pyasn1-modules>=0.2.1 in c:\\users\\piyus\\appdata\\local\\packages\\pythonsoftwarefoundation.python.3.11_qbz5n2kfra8p0\\localcache\\local-packages\\python311\\site-packages (from google-auth!=2.24.0,!=2.25.0,<3.0.0,>=1.32.0->google-api-python-client) (0.4.2)\n",
      "Requirement already satisfied: rsa<5,>=3.1.4 in c:\\users\\piyus\\appdata\\local\\packages\\pythonsoftwarefoundation.python.3.11_qbz5n2kfra8p0\\localcache\\local-packages\\python311\\site-packages (from google-auth!=2.24.0,!=2.25.0,<3.0.0,>=1.32.0->google-api-python-client) (4.9.1)\n",
      "Requirement already satisfied: pyparsing!=3.0.0,!=3.0.1,!=3.0.2,!=3.0.3,<4,>=2.4.2 in c:\\users\\piyus\\appdata\\local\\packages\\pythonsoftwarefoundation.python.3.11_qbz5n2kfra8p0\\localcache\\local-packages\\python311\\site-packages (from httplib2<1.0.0,>=0.19.0->google-api-python-client) (3.2.0)\n",
      "Requirement already satisfied: charset_normalizer<4,>=2 in c:\\users\\piyus\\appdata\\local\\packages\\pythonsoftwarefoundation.python.3.11_qbz5n2kfra8p0\\localcache\\local-packages\\python311\\site-packages (from requests<3.0.0,>=2.18.0->google-api-core!=2.0.*,!=2.1.*,!=2.2.*,!=2.3.0,<3.0.0,>=1.31.5->google-api-python-client) (3.4.0)\n",
      "Requirement already satisfied: idna<4,>=2.5 in c:\\users\\piyus\\appdata\\local\\packages\\pythonsoftwarefoundation.python.3.11_qbz5n2kfra8p0\\localcache\\local-packages\\python311\\site-packages (from requests<3.0.0,>=2.18.0->google-api-core!=2.0.*,!=2.1.*,!=2.2.*,!=2.3.0,<3.0.0,>=1.31.5->google-api-python-client) (3.10)\n",
      "Requirement already satisfied: urllib3<3,>=1.21.1 in c:\\users\\piyus\\appdata\\local\\packages\\pythonsoftwarefoundation.python.3.11_qbz5n2kfra8p0\\localcache\\local-packages\\python311\\site-packages (from requests<3.0.0,>=2.18.0->google-api-core!=2.0.*,!=2.1.*,!=2.2.*,!=2.3.0,<3.0.0,>=1.31.5->google-api-python-client) (2.2.3)\n",
      "Requirement already satisfied: certifi>=2017.4.17 in c:\\users\\piyus\\appdata\\local\\packages\\pythonsoftwarefoundation.python.3.11_qbz5n2kfra8p0\\localcache\\local-packages\\python311\\site-packages (from requests<3.0.0,>=2.18.0->google-api-core!=2.0.*,!=2.1.*,!=2.2.*,!=2.3.0,<3.0.0,>=1.31.5->google-api-python-client) (2024.8.30)\n",
      "Requirement already satisfied: pyasn1>=0.1.3 in c:\\users\\piyus\\appdata\\local\\packages\\pythonsoftwarefoundation.python.3.11_qbz5n2kfra8p0\\localcache\\local-packages\\python311\\site-packages (from rsa<5,>=3.1.4->google-auth!=2.24.0,!=2.25.0,<3.0.0,>=1.32.0->google-api-python-client) (0.6.1)\n",
      "Note: you may need to restart the kernel to use updated packages.\n"
     ]
    }
   ],
   "source": [
    "%pip install google-api-python-client\n"
   ]
  },
  {
   "cell_type": "code",
   "execution_count": 9,
   "id": "a1a6edf3",
   "metadata": {},
   "outputs": [],
   "source": [
    "from googleapiclient.discovery import build\n",
    "\n",
    "\n",
    "\n",
    "        "
   ]
  },
  {
   "cell_type": "code",
   "execution_count": null,
   "id": "3293a49a",
   "metadata": {},
   "outputs": [],
   "source": [
    "def google_search(state=state):\n",
    "    \n",
    "    API_KEY=\"AI\"\n",
    "    SEARCH_ENGINE_ID=\"b5\"\n",
    "\n",
    "    try:\n",
    "        service=build(\"customsearch\",\"v1\",developerKey=API_KEY)\n",
    "        results=service.cse().list(q=state[\"query\"],cx=SEARCH_ENGINE_ID).execute()\n",
    "        ans=[]\n",
    "        if 'items' in results:\n",
    "            for item in results['items']:\n",
    "                 ans.append({\n",
    "                  \"title\":item['title'],\n",
    "                  \"snippet\":item['snippet'],\n",
    "                  \"link\":item['link']\n",
    "            })\n",
    "            \n",
    "        if not ans:\n",
    "            return{\"error\":\"No results obtained from google\"}\n",
    "        return{\"Answer\":ans}\n",
    "    except Exception as e:\n",
    "        return{\"error\":f\"google failed to search:{str(e)}\"}\n",
    "\n",
    "        "
   ]
  },
  {
   "cell_type": "code",
   "execution_count": 11,
   "id": "cbe95cd0",
   "metadata": {},
   "outputs": [
    {
     "name": "stdout",
     "output_type": "stream",
     "text": [
      "Requirement already satisfied: tavily-python in c:\\users\\piyus\\appdata\\local\\packages\\pythonsoftwarefoundation.python.3.11_qbz5n2kfra8p0\\localcache\\local-packages\\python311\\site-packages (0.7.10)\n",
      "Requirement already satisfied: requests in c:\\users\\piyus\\appdata\\local\\packages\\pythonsoftwarefoundation.python.3.11_qbz5n2kfra8p0\\localcache\\local-packages\\python311\\site-packages (from tavily-python) (2.32.5)\n",
      "Requirement already satisfied: tiktoken>=0.5.1 in c:\\users\\piyus\\appdata\\local\\packages\\pythonsoftwarefoundation.python.3.11_qbz5n2kfra8p0\\localcache\\local-packages\\python311\\site-packages (from tavily-python) (0.11.0)\n",
      "Requirement already satisfied: httpx in c:\\users\\piyus\\appdata\\local\\packages\\pythonsoftwarefoundation.python.3.11_qbz5n2kfra8p0\\localcache\\local-packages\\python311\\site-packages (from tavily-python) (0.28.0)\n",
      "Requirement already satisfied: regex>=2022.1.18 in c:\\users\\piyus\\appdata\\local\\packages\\pythonsoftwarefoundation.python.3.11_qbz5n2kfra8p0\\localcache\\local-packages\\python311\\site-packages (from tiktoken>=0.5.1->tavily-python) (2024.11.6)\n",
      "Requirement already satisfied: charset_normalizer<4,>=2 in c:\\users\\piyus\\appdata\\local\\packages\\pythonsoftwarefoundation.python.3.11_qbz5n2kfra8p0\\localcache\\local-packages\\python311\\site-packages (from requests->tavily-python) (3.4.0)\n",
      "Requirement already satisfied: idna<4,>=2.5 in c:\\users\\piyus\\appdata\\local\\packages\\pythonsoftwarefoundation.python.3.11_qbz5n2kfra8p0\\localcache\\local-packages\\python311\\site-packages (from requests->tavily-python) (3.10)\n",
      "Requirement already satisfied: urllib3<3,>=1.21.1 in c:\\users\\piyus\\appdata\\local\\packages\\pythonsoftwarefoundation.python.3.11_qbz5n2kfra8p0\\localcache\\local-packages\\python311\\site-packages (from requests->tavily-python) (2.2.3)\n",
      "Requirement already satisfied: certifi>=2017.4.17 in c:\\users\\piyus\\appdata\\local\\packages\\pythonsoftwarefoundation.python.3.11_qbz5n2kfra8p0\\localcache\\local-packages\\python311\\site-packages (from requests->tavily-python) (2024.8.30)\n",
      "Requirement already satisfied: anyio in c:\\users\\piyus\\appdata\\local\\packages\\pythonsoftwarefoundation.python.3.11_qbz5n2kfra8p0\\localcache\\local-packages\\python311\\site-packages (from httpx->tavily-python) (4.6.2.post1)\n",
      "Requirement already satisfied: httpcore==1.* in c:\\users\\piyus\\appdata\\local\\packages\\pythonsoftwarefoundation.python.3.11_qbz5n2kfra8p0\\localcache\\local-packages\\python311\\site-packages (from httpx->tavily-python) (1.0.7)\n",
      "Requirement already satisfied: h11<0.15,>=0.13 in c:\\users\\piyus\\appdata\\local\\packages\\pythonsoftwarefoundation.python.3.11_qbz5n2kfra8p0\\localcache\\local-packages\\python311\\site-packages (from httpcore==1.*->httpx->tavily-python) (0.14.0)\n",
      "Requirement already satisfied: sniffio>=1.1 in c:\\users\\piyus\\appdata\\local\\packages\\pythonsoftwarefoundation.python.3.11_qbz5n2kfra8p0\\localcache\\local-packages\\python311\\site-packages (from anyio->httpx->tavily-python) (1.3.1)\n",
      "Note: you may need to restart the kernel to use updated packages.\n"
     ]
    }
   ],
   "source": [
    "%pip install tavily-python"
   ]
  },
  {
   "cell_type": "code",
   "execution_count": 12,
   "id": "615dd776",
   "metadata": {},
   "outputs": [],
   "source": [
    "from tavily import TavilyClient"
   ]
  },
  {
   "cell_type": "code",
   "execution_count": 13,
   "id": "0d28e4c1",
   "metadata": {},
   "outputs": [],
   "source": [
    "def tavilly(state=state):\n",
    "    tavily_client=TavilyClient(api_key=\"tvly\")\n",
    "    try:\n",
    "        response=tavily_client.search(query=state['query'])\n",
    "        ans=[]\n",
    "        for result in response:\n",
    "            ans.append(\n",
    "                {\n",
    "                    \"title\": result['title'],\n",
    "                    \"snippet\":result['content'],\n",
    "                    \"link\":result['url']\n",
    "                }\n",
    "            )\n",
    "        if not ans:\n",
    "            return{\"error\":\"Tavily failed\"}\n",
    "        return{\"Answer\":ans}\n",
    "    except Exception as e:\n",
    "        return{\"error\":\"Tavily failed:str{e}\"}   \n",
    "    "
   ]
  },
  {
   "cell_type": "code",
   "execution_count": 24,
   "id": "3ee13b2d",
   "metadata": {},
   "outputs": [
    {
     "name": "stdout",
     "output_type": "stream",
     "text": [
      "Collecting duckduckgo-search\n",
      "  Downloading duckduckgo_search-8.1.1-py3-none-any.whl.metadata (16 kB)\n",
      "Requirement already satisfied: click>=8.1.8 in c:\\users\\piyus\\appdata\\local\\packages\\pythonsoftwarefoundation.python.3.11_qbz5n2kfra8p0\\localcache\\local-packages\\python311\\site-packages (from duckduckgo-search) (8.2.0)\n",
      "Collecting primp>=0.15.0 (from duckduckgo-search)\n",
      "  Downloading primp-0.15.0-cp38-abi3-win_amd64.whl.metadata (13 kB)\n",
      "Collecting lxml>=5.3.0 (from duckduckgo-search)\n",
      "  Downloading lxml-6.0.0-cp311-cp311-win_amd64.whl.metadata (6.8 kB)\n",
      "Requirement already satisfied: colorama in c:\\users\\piyus\\appdata\\local\\packages\\pythonsoftwarefoundation.python.3.11_qbz5n2kfra8p0\\localcache\\local-packages\\python311\\site-packages (from click>=8.1.8->duckduckgo-search) (0.4.6)\n",
      "Downloading duckduckgo_search-8.1.1-py3-none-any.whl (18 kB)\n",
      "Downloading lxml-6.0.0-cp311-cp311-win_amd64.whl (4.0 MB)\n",
      "   ---------------------------------------- 0.0/4.0 MB ? eta -:--:--\n",
      "   ---------------------------------------- 0.0/4.0 MB ? eta -:--:--\n",
      "   ---------------------------------------- 0.0/4.0 MB ? eta -:--:--\n",
      "   -- ------------------------------------- 0.3/4.0 MB ? eta -:--:--\n",
      "   -- ------------------------------------- 0.3/4.0 MB ? eta -:--:--\n",
      "   ----- ---------------------------------- 0.5/4.0 MB 699.0 kB/s eta 0:00:05\n",
      "   ------- -------------------------------- 0.8/4.0 MB 838.9 kB/s eta 0:00:04\n",
      "   ------- -------------------------------- 0.8/4.0 MB 838.9 kB/s eta 0:00:04\n",
      "   ---------- ----------------------------- 1.0/4.0 MB 786.4 kB/s eta 0:00:04\n",
      "   ------------- -------------------------- 1.3/4.0 MB 818.6 kB/s eta 0:00:04\n",
      "   ------------- -------------------------- 1.3/4.0 MB 818.6 kB/s eta 0:00:04\n",
      "   --------------- ------------------------ 1.6/4.0 MB 822.8 kB/s eta 0:00:03\n",
      "   -------------------- ------------------- 2.1/4.0 MB 955.2 kB/s eta 0:00:02\n",
      "   -------------------------- ------------- 2.6/4.0 MB 1.1 MB/s eta 0:00:02\n",
      "   ---------------------------- ----------- 2.9/4.0 MB 1.1 MB/s eta 0:00:01\n",
      "   ---------------------------------- ----- 3.4/4.0 MB 1.2 MB/s eta 0:00:01\n",
      "   ---------------------------------------- 4.0/4.0 MB 1.4 MB/s eta 0:00:00\n",
      "Downloading primp-0.15.0-cp38-abi3-win_amd64.whl (3.1 MB)\n",
      "   ---------------------------------------- 0.0/3.1 MB ? eta -:--:--\n",
      "   --- ------------------------------------ 0.3/3.1 MB ? eta -:--:--\n",
      "   ------ --------------------------------- 0.5/3.1 MB 2.8 MB/s eta 0:00:01\n",
      "   ------------- -------------------------- 1.0/3.1 MB 1.7 MB/s eta 0:00:02\n",
      "   ---------------- ----------------------- 1.3/3.1 MB 1.6 MB/s eta 0:00:02\n",
      "   ----------------------- ---------------- 1.8/3.1 MB 1.8 MB/s eta 0:00:01\n",
      "   --------------------------------- ------ 2.6/3.1 MB 2.3 MB/s eta 0:00:01\n",
      "   ---------------------------------------- 3.1/3.1 MB 2.5 MB/s eta 0:00:00\n",
      "Installing collected packages: primp, lxml, duckduckgo-search\n",
      "Successfully installed duckduckgo-search-8.1.1 lxml-6.0.0 primp-0.15.0\n",
      "Note: you may need to restart the kernel to use updated packages.\n"
     ]
    },
    {
     "name": "stderr",
     "output_type": "stream",
     "text": [
      "\n",
      "[notice] A new release of pip is available: 24.3.1 -> 25.2\n",
      "[notice] To update, run: C:\\Users\\piyus\\AppData\\Local\\Microsoft\\WindowsApps\\PythonSoftwareFoundation.Python.3.11_qbz5n2kfra8p0\\python.exe -m pip install --upgrade pip\n"
     ]
    }
   ],
   "source": [
    "%pip install duckduckgo-search"
   ]
  },
  {
   "cell_type": "code",
   "execution_count": 14,
   "id": "58f6dc55",
   "metadata": {},
   "outputs": [],
   "source": [
    "from duckduckgo_search import DDGS"
   ]
  },
  {
   "cell_type": "code",
   "execution_count": 15,
   "id": "9d218a9a",
   "metadata": {},
   "outputs": [],
   "source": [
    "def duck_search(state=state):\n",
    "    ddgs=DDGS()\n",
    "    \n",
    "    try:\n",
    "        results=ddgs.text(state['query'],max_results=5)\n",
    "        ans=[]\n",
    "        for result in results:\n",
    "            ans.append({\n",
    "                'title':result['title'],\n",
    "                \"snippet\":result['body'],\n",
    "                \"link\": result['href']\n",
    "            })\n",
    "        return{\"Answer\":ans}\n",
    "    except Exception as e:\n",
    "        return{\"error\":f\"duck search failed:{str(e)}\"}\n",
    "        "
   ]
  },
  {
   "cell_type": "code",
   "execution_count": 16,
   "id": "5a0f63a3",
   "metadata": {},
   "outputs": [],
   "source": [
    "def check_result(state=state):\n",
    "    if \"Answer\" in state and state[\"Answer\"]:\n",
    "        return \"Success\"\n",
    "    return \"Fail\""
   ]
  },
  {
   "cell_type": "code",
   "execution_count": 17,
   "id": "b1f2cb84",
   "metadata": {},
   "outputs": [
    {
     "data": {
      "text/plain": [
       "<langgraph.graph.state.StateGraph at 0x1daf6b21a50>"
      ]
     },
     "execution_count": 17,
     "metadata": {},
     "output_type": "execute_result"
    }
   ],
   "source": [
    "workflow=StateGraph(state)\n",
    "\n",
    "workflow.add_node(\"google_search\",google_search)\n",
    "workflow.add_node(\"tavilly\",tavilly)\n",
    "workflow.add_node(\"duck_search\",duck_search)\n"
   ]
  },
  {
   "cell_type": "code",
   "execution_count": 18,
   "id": "730c689f",
   "metadata": {},
   "outputs": [
    {
     "data": {
      "text/plain": [
       "<langgraph.graph.state.StateGraph at 0x1daf6b21a50>"
      ]
     },
     "execution_count": 18,
     "metadata": {},
     "output_type": "execute_result"
    }
   ],
   "source": [
    "workflow.add_edge(START,\"google_search\")\n",
    "workflow.add_conditional_edges(\n",
    "    \"google_search\",check_result,{\"Success\":END,\"Failure\":\"tavilly\"}\n",
    ")\n",
    "workflow.add_conditional_edges(\n",
    "    \"tavilly\",check_result,{\"Success\":END,\"Failure\":\"duck_search\"}\n",
    ")\n",
    "\n"
   ]
  },
  {
   "cell_type": "code",
   "execution_count": 19,
   "id": "808076ed",
   "metadata": {},
   "outputs": [
    {
     "data": {
      "text/plain": [
       "<langgraph.graph.state.StateGraph at 0x1daf6b21a50>"
      ]
     },
     "execution_count": 19,
     "metadata": {},
     "output_type": "execute_result"
    }
   ],
   "source": [
    "workflow.add_conditional_edges(\n",
    "    \"duck_search\",check_result,{\"Success\":END,\"Failure\":END}\n",
    ")"
   ]
  },
  {
   "cell_type": "code",
   "execution_count": 62,
   "id": "e499fa39",
   "metadata": {},
   "outputs": [
    {
     "data": {
      "text/plain": [
       "<langgraph.graph.state.StateGraph at 0x1d25fa7edd0>"
      ]
     },
     "execution_count": 62,
     "metadata": {},
     "output_type": "execute_result"
    }
   ],
   "source": [
    "workflow"
   ]
  },
  {
   "cell_type": "code",
   "execution_count": 63,
   "id": "6b20dc0a",
   "metadata": {},
   "outputs": [],
   "source": [
    "chain=workflow.compile()"
   ]
  },
  {
   "cell_type": "code",
   "execution_count": 64,
   "id": "71deed3e",
   "metadata": {},
   "outputs": [],
   "source": [
    "state=chain.invoke({\"query\":\"whats the oldest IIT\"})"
   ]
  },
  {
   "cell_type": "code",
   "execution_count": 65,
   "id": "ee6c3ba7",
   "metadata": {},
   "outputs": [
    {
     "name": "stdout",
     "output_type": "stream",
     "text": [
      "{'query': 'whats the oldest IIT', 'Answer': [{'title': 'Indian Institutes of Technology - Wikipedia', 'snippet': 'The Indian Institutes of Technology (IIT) are a network of engineering and technology institutions in India. Established in 1950, they are under the purview\\xa0...', 'link': 'https://en.wikipedia.org/wiki/Indian_Institutes_of_Technology'}, {'title': 'History of Illinois Tech | Illinois Institute of Technology', 'snippet': 'Illinois Tech was created in 1940 by the merger of Armour Institute and Lewis Institute. Located on the West Side of Chicago.', 'link': 'https://www.iit.edu/about/history'}, {'title': 'History of Indian Institutes of Technology - Wikipedia', 'snippet': 'Contents · 1 Pre-independence developments · 2 Developments leading to the first IIT · 3 The next four IITs · 4 Establishment of IIT Guwahati and IIT Roorkee\\xa0...', 'link': 'https://en.wikipedia.org/wiki/History_of_Indian_Institutes_of_Technology'}, {'title': 'History of Bronzeville | Illinois Institute of Technology', 'snippet': 'An informative and fascinating glimpse into history of Bronzeville, which Illinois Tech proudly calls our home, the Bronzeville History Booklet examines the\\xa0...', 'link': 'https://www.iit.edu/community-affairs/about/history-bronzeville'}, {'title': 'Chicago-Kent History | Chicago-Kent College of Law', 'snippet': 'The second oldest law school in the state of Illinois, Chicago-Kent has a history marked by innovation and excellence.', 'link': 'https://kentlaw.iit.edu/law/about/chicago-kent-history'}, {'title': \"IEEE - The world's largest technical professional organization ...\", 'snippet': \"From the latest conferences and community events to the courses and opportunities that can help you grow in your career, here's what's new at IEEE. Humanitarian\\xa0...\", 'link': 'https://www.ieee.org/'}, {'title': 'IHB: What is a Hoosier', 'snippet': 'It is one of the oldest of state nicknames and has had a wider acceptance than most. True, there are Buckeyes of Ohio, the Suckers of Illinois and the\\xa0...', 'link': 'https://www.in.gov/history/about-indiana-history-and-trivia/emblems-and-symbols/what-is-a-hoosier/'}, {'title': 'Stevens Institute of Technology', 'snippet': 'Stevens Institute of Technology is a premier, private research university situated in Hoboken, New Jersey. Since our founding in 1870,\\xa0...', 'link': 'https://www.stevens.edu/'}, {'title': 'Indian Institute of Technology Madras', 'snippet': 'Indian Institute of Technology Madras is Best Institute for higher education in India. It is a public technical and research university located in Chennai.', 'link': 'https://www.iitm.ac.in/'}, {'title': 'MIT engineers fly first-ever plane with no moving parts | MIT News ...', 'snippet': \"Nov 21, 2018 ... ... Institute of Fluid Mechanics in Toulouse, France, who notes that researchers previously weren't able to fly anything heavier than a few grams.\", 'link': 'https://news.mit.edu/2018/first-ionic-wind-plane-no-moving-parts-1121'}]}\n"
     ]
    }
   ],
   "source": [
    "print(state)"
   ]
  },
  {
   "cell_type": "markdown",
   "id": "0495a3f2",
   "metadata": {},
   "source": [
    "QTN-2"
   ]
  },
  {
   "cell_type": "code",
   "execution_count": 1,
   "id": "b574c87b",
   "metadata": {},
   "outputs": [],
   "source": [
    "##i will now conitnue the code for qtn:2, ill be using the code for qtn 1 in qtn 2"
   ]
  },
  {
   "cell_type": "code",
   "execution_count": 42,
   "id": "a2291f2c",
   "metadata": {},
   "outputs": [],
   "source": [
    "from typing_extensions import TypedDict\n",
    "from langchain_community.vectorstores import FAISS\n",
    "from langchain_community.document_loaders import WebBaseLoader\n",
    "from langchain_text_splitters import RecursiveCharacterTextSplitter\n",
    "from langchain.chains import create_history_aware_retriever,create_retrieval_chain\n",
    "from langchain import hub\n",
    "from langchain_mistralai import ChatMistralAI\n",
    "from langchain_huggingface import HuggingFaceEmbeddings\n"
   ]
  },
  {
   "cell_type": "code",
   "execution_count": 23,
   "id": "15d81595",
   "metadata": {},
   "outputs": [],
   "source": [
    "from langchain_openai import OpenAIEmbeddings"
   ]
  },
  {
   "cell_type": "code",
   "execution_count": 52,
   "id": "a610e418",
   "metadata": {},
   "outputs": [],
   "source": [
    "from langchain_core.output_parsers import StrOutputParser\n",
    "from langchain_core.runnables import RunnablePassthrough\n",
    "from langchain_core.prompts import ChatPromptTemplate"
   ]
  },
  {
   "cell_type": "code",
   "execution_count": null,
   "id": "313192e9",
   "metadata": {},
   "outputs": [],
   "source": [
    "import os\n",
    "os.environ[\"GOOGLE_API_KEY\"] = \"abc\""
   ]
  },
  {
   "cell_type": "code",
   "execution_count": null,
   "id": "70e5eee8",
   "metadata": {},
   "outputs": [],
   "source": [
    "import os\n",
    "from typing import List, Dict, Any\n",
    "from langchain_community.document_loaders import WebBaseLoader\n",
    "from langchain_community.vectorstores import FAISS\n",
    "from langchain_openai import OpenAIEmbeddings\n",
    "from langchain_text_splitters import RecursiveCharacterTextSplitter\n",
    "from langchain_core.prompts import ChatPromptTemplate\n",
    "from langchain_core.output_parsers import StrOutputParser\n",
    "from langchain_core.runnables import RunnablePassthrough\n",
    "from langchain_mistralai import ChatMistralAI\n",
    "from langchain_huggingface import HuggingFaceEmbeddings\n",
    "from langchain_google_genai import ChatGoogleGenerativeAI, GoogleGenerativeAIEmbeddings\n",
    "\n",
    "def web_rag(state: Dict[str, Any]):\n",
    "    \n",
    "    if \"Answer\" not in state or not isinstance(state[\"Answer\"], list) or not state[\"Answer\"]:\n",
    "        print(\"No valid search results found. Skipping RAG process.\")\n",
    "        return {\"Answer\": \"sadly couldn't find any relevant information on the web.\"}\n",
    "    \n",
    "    urls = [result['link'] for result in state['Answer'] if 'link' in result]\n",
    "    if not urls:\n",
    "        print(\"No URLs found in the search results. Skipping RAG process.\")\n",
    "        return {\"Answer\": \"the search results did not contain any valid links to scrape.\"}\n",
    "        \n",
    "    docs_list = []\n",
    "    \n",
    "    for url in urls:\n",
    "        try:\n",
    "            loader = WebBaseLoader(url)\n",
    "            docs = loader.load()\n",
    "            if docs and isinstance(docs[0].page_content, str):\n",
    "                docs_list.extend(docs)\n",
    "            else:\n",
    "                print(f\"Skipping URL due to invalid or empty content: {url}\")\n",
    "        except Exception as e:\n",
    "            print(f\"Failed to load or process URL {url}: {str(e)}\")\n",
    "            \n",
    "    if not docs_list:\n",
    "        return {\"Answer\": \"unable to retrieve content from the web pages. The RAG process failed.\"}\n",
    "\n",
    "    try:\n",
    "        text_splitter = RecursiveCharacterTextSplitter.from_tiktoken_encoder(\n",
    "            chunk_size=500,\n",
    "            chunk_overlap=0\n",
    "        )\n",
    "        doc_splits = text_splitter.split_documents(docs_list)\n",
    "        \n",
    "        embedding_model = HuggingFaceEmbeddings(model_name=\"sentence-transformers/all-MiniLM-L6-v2\")\n",
    "        vectorstore = FAISS.from_documents(\n",
    "            documents=doc_splits,\n",
    "            embedding=embedding_model\n",
    "        )\n",
    "        retriever = vectorstore.as_retriever()\n",
    "        llm = ChatGoogleGenerativeAI(model=\"gemini-1.5-flash-latest\", temperature=0)\n",
    "\n",
    "        template = \"\"\"Answer the question based only on the following context:\n",
    "{context}\n",
    "\n",
    "Question: {question}\n",
    "\"\"\"\n",
    "        rag_prompt = ChatPromptTemplate.from_template(template)\n",
    "\n",
    "        rag_chain = (\n",
    "            {\"context\": retriever, \"question\": RunnablePassthrough()}\n",
    "            | rag_prompt\n",
    "            | llm\n",
    "            | StrOutputParser()\n",
    "        )\n",
    "        \n",
    "        response = rag_chain.invoke(state['query'])\n",
    "        \n",
    "        return {\"Answer\": response}\n",
    "\n",
    "    except Exception as e:\n",
    "        return {\"Answer\": f\"An error occurred during the RAG process: {str(e)}\"}\n",
    "\n",
    "    \n",
    "    "
   ]
  },
  {
   "cell_type": "code",
   "execution_count": 69,
   "id": "3e32c92e",
   "metadata": {},
   "outputs": [
    {
     "data": {
      "text/plain": [
       "<langgraph.graph.state.StateGraph at 0x1db585c9050>"
      ]
     },
     "execution_count": 69,
     "metadata": {},
     "output_type": "execute_result"
    }
   ],
   "source": [
    "workflow=StateGraph(state)\n",
    "\n",
    "workflow.add_node(\"google_search\",google_search)\n",
    "workflow.add_node(\"tavilly\",tavilly)\n",
    "workflow.add_node(\"duck_search\",duck_search)\n",
    "workflow.add_node(\"scraper_rag\",web_rag)"
   ]
  },
  {
   "cell_type": "code",
   "execution_count": 70,
   "id": "309280db",
   "metadata": {},
   "outputs": [
    {
     "data": {
      "text/plain": [
       "<langgraph.graph.state.StateGraph at 0x1db585c9050>"
      ]
     },
     "execution_count": 70,
     "metadata": {},
     "output_type": "execute_result"
    }
   ],
   "source": [
    "workflow.add_edge(START, \"google_search\")\n",
    "workflow.add_conditional_edges(\n",
    "    \"google_search\", check_result, {\"Success\": \"scraper_rag\", \"Failure\": \"tavilly\"}\n",
    ")\n",
    "workflow.add_conditional_edges(\n",
    "    \"tavilly\", check_result, {\"Success\": \"scraper_rag\", \"Failure\": \"duck_search\"}\n",
    ")\n",
    "workflow.add_conditional_edges(\n",
    "    \"duck_search\", check_result, {\"Success\": \"scraper_rag\", \"Failure\": END}\n",
    ")\n",
    "workflow.add_edge(\"scraper_rag\", END)"
   ]
  },
  {
   "cell_type": "code",
   "execution_count": 71,
   "id": "8577d84f",
   "metadata": {},
   "outputs": [],
   "source": [
    "chain = workflow.compile()"
   ]
  },
  {
   "cell_type": "code",
   "execution_count": 72,
   "id": "90e95870",
   "metadata": {},
   "outputs": [
    {
     "data": {
      "text/plain": [
       "{'query': 'what are the latest advancements in AI?',\n",
       " 'Answer': \"Based on the provided text, several advancements are mentioned:\\n\\n* **OpenAI's GPT-5:**  Is now available in Crescendo.\\n* **Esaote's AI-powered cardiac ultrasound:** Uses machine learning to improve image clarity and diagnostic precision.\\n* **Microsoft's MAI-Voice-1:**  Generates a minute of audio in under a second with minimal compute.\\n* **Microsoft's MAI-1 Preview:** A foundational LLM available for public testing.\\n* **Advancements in AutoML:** Automating machine learning processes.\\n* **Rise of Multi-modal AI:** Combining text, image, and speech processing.\\n* **Explainable AI (XAI):**  For transparency in decision-making.\\n* **Enhanced Computer Vision capabilities.**\\n* **Evolution of Neural Networks:** For more efficient learning.\\n* **Digital Twins:** Gaining prominence for simulating real-world objects digitally.\\n\\nThe documents also refer to broader trends like AI in healthcare, AI-powered chips enabling free traveling tokens, and cashier-less shopping marts, but don't detail specific advancements driving these.\"}"
      ]
     },
     "execution_count": 72,
     "metadata": {},
     "output_type": "execute_result"
    }
   ],
   "source": [
    "chain.invoke({\"query\":\"what are the latest advancements in AI?\"})"
   ]
  },
  {
   "cell_type": "code",
   "execution_count": 63,
   "id": "d0e0e53b",
   "metadata": {},
   "outputs": [
    {
     "name": "stdout",
     "output_type": "stream",
     "text": [
      "Note: you may need to restart the kernel to use updated packages.\n"
     ]
    },
    {
     "name": "stderr",
     "output_type": "stream",
     "text": [
      "  WARNING: Failed to remove contents in a temporary directory 'C:\\Users\\piyus\\AppData\\Local\\Packages\\PythonSoftwareFoundation.Python.3.11_qbz5n2kfra8p0\\LocalCache\\local-packages\\Python311\\site-packages\\google\\~upb'.\n",
      "  You can safely remove it manually.\n",
      "ERROR: pip's dependency resolver does not currently take into account all the packages that are installed. This behaviour is the source of the following dependency conflicts.\n",
      "mediapipe 0.10.21 requires protobuf<5,>=4.25.3, but you have protobuf 6.32.0 which is incompatible.\n",
      "tensorflow 2.19.0 requires protobuf!=4.21.0,!=4.21.1,!=4.21.2,!=4.21.3,!=4.21.4,!=4.21.5,<6.0.0dev,>=3.20.3, but you have protobuf 6.32.0 which is incompatible.\n"
     ]
    }
   ],
   "source": [
    "%pip install --upgrade --quiet langchain-google-genai"
   ]
  },
  {
   "cell_type": "code",
   "execution_count": null,
   "id": "b84ae593",
   "metadata": {},
   "outputs": [],
   "source": []
  }
 ],
 "metadata": {
  "kernelspec": {
   "display_name": "Python 3",
   "language": "python",
   "name": "python3"
  },
  "language_info": {
   "codemirror_mode": {
    "name": "ipython",
    "version": 3
   },
   "file_extension": ".py",
   "mimetype": "text/x-python",
   "name": "python",
   "nbconvert_exporter": "python",
   "pygments_lexer": "ipython3",
   "version": "3.11.9"
  }
 },
 "nbformat": 4,
 "nbformat_minor": 5
}
