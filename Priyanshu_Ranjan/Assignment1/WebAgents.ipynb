{
  "nbformat": 4,
  "nbformat_minor": 0,
  "metadata": {
    "colab": {
      "provenance": [],
      "toc_visible": true
    },
    "kernelspec": {
      "name": "python3",
      "display_name": "Python 3"
    },
    "language_info": {
      "name": "python"
    }
  },
  "cells": [
    {
      "cell_type": "code",
      "execution_count": 85,
      "metadata": {
        "id": "gPSl1R2Om8sl"
      },
      "outputs": [],
      "source": [
        "!pip install -q langchain langchain-community langgraph duckduckgo-search tavily-python serpapi ddgs google-search-results langchain-tavily\n"
      ]
    },
    {
      "cell_type": "code",
      "source": [
        "from typing import Dict, Any, TypedDict, List\n",
        "from langchain_tavily import TavilySearch\n",
        "from langchain_community.tools.ddg_search.tool import DuckDuckGoSearchResults\n",
        "from langchain_community.utilities import SerpAPIWrapper\n",
        "from langgraph.graph import StateGraph, END"
      ],
      "metadata": {
        "id": "cZY8JA5KnHwh"
      },
      "execution_count": 86,
      "outputs": []
    },
    {
      "cell_type": "code",
      "source": [
        "import os\n",
        "from google.colab import userdata\n",
        "os.environ[\"SERPAPI_API_KEY\"]=userdata.get('SERPAPI_API_KEY')\n",
        "os.environ[\"TAVILY_API_KEY\"]=userdata.get('TAVILY_API_KEY')"
      ],
      "metadata": {
        "id": "QZPCvTOIDsDm"
      },
      "execution_count": 87,
      "outputs": []
    },
    {
      "cell_type": "code",
      "source": [
        "class AgentState(TypedDict):\n",
        "    \"\"\"\n",
        "    Represents the state of our search agent graph.\n",
        "\n",
        "    Attributes:\n",
        "        query: The search query.\n",
        "        result: The result from a successful search.\n",
        "        error_message: Any error message encountered during a search attempt.\n",
        "        successful_agent: The name of the agent that successfully returned a result.\n",
        "    \"\"\"\n",
        "    query: str\n",
        "    result: Any\n",
        "    error_message: str\n",
        "    successful_agent: str\n",
        "\n",
        "def tavily_agent(state:AgentState) -> Dict[str, Any]:\n",
        "  \"\"\"This node perfoms web search using Tavily agent. This is the primary preferred agent.\"\"\"\n",
        "  try:\n",
        "    tavily_tool = TavilySearch(max_results=3)\n",
        "    result = tavily_tool.invoke({\"query\" : state[\"query\"]})\n",
        "    print(\"Tavily raw result:\", result)\n",
        "    return {\"result\": result, \"successful_agent\": \"Tavily\"}\n",
        "  except Exception as e:\n",
        "    print(f\"Tavily Search failed: {e}\")\n",
        "    return {\"result\" : None, \"succesful_agent\" : None, \"error_message\" : str(e)}\n",
        "\n",
        "def ddg_agent(state: AgentState) -> Dict[str, Any]:\n",
        "    \"\"\"Fallback: This node performs web search using DuckDuckGo search agent if Tavily fails.\"\"\"\n",
        "    try:\n",
        "        ddg_tool = DuckDuckGoSearchResults()\n",
        "        result = ddg_tool.invoke({\"query\": state[\"query\"]})\n",
        "        return {\"result\": result, \"successful_agent\": \"DuckDuckGo\", \"error_message\": None}\n",
        "    except Exception as e:\n",
        "        print(f\"DuckDuckGo Search failed: {e}\")\n",
        "        return {\"result\": None, \"successful_agent\": None, \"error_message\": str(e)}\n",
        "\n",
        "def serpapi_agent(state: AgentState) -> Dict[str, Any]:\n",
        "    \"\"\"Fallback: This node performs web search using SerpAPI (Google) if Tavily and DuckDuckGo fail.\"\"\"\n",
        "    try:\n",
        "        serpapi_tool = SerpAPIWrapper()\n",
        "        result = serpapi_tool.run(state[\"query\"])\n",
        "        return {\"result\": result, \"successful_agent\": \"SerpAPI\", \"error_message\": None}\n",
        "    except Exception as e:\n",
        "        print(f\"SerpAPI Search failed: {e}\")\n",
        "        return {\"result\": None, \"successful_agent\": None, \"error_message\": str(e)}\n",
        "\n",
        "def web_search_agent(state: AgentState) -> Dict[str, Any]:\n",
        "    \"\"\"Tries agents in order: Tavily -> DuckDuckGo -> SerpAPI\"\"\"\n",
        "    for agent_fn in [tavily_agent, ddg_agent, serpapi_agent]:\n",
        "        response = agent_fn(state)\n",
        "        if response[\"result\"] is not None:\n",
        "            return response  # return first successful result\n",
        "    return {\"result\": None, \"successful_agent\": None, \"error_message\": \"All search agents failed\"}\n",
        "\n"
      ],
      "metadata": {
        "id": "b_6B6ZTZqkXb"
      },
      "execution_count": 88,
      "outputs": []
    },
    {
      "cell_type": "code",
      "source": [
        "def tavily_node(state: AgentState) -> AgentState:\n",
        "    response = tavily_agent(state[\"query\"])\n",
        "    return {**state, **response}\n",
        "\n",
        "def ddg_node(state: AgentState) -> AgentState:\n",
        "    response = ddg_agent(state[\"query\"])\n",
        "    return {**state, **response}\n",
        "\n",
        "def serp_node(state: AgentState) -> AgentState:\n",
        "    response = serpapi_agent(state[\"query\"])\n",
        "    return {**state, **response}\n"
      ],
      "metadata": {
        "id": "63h3Wx5rqtsl"
      },
      "execution_count": 89,
      "outputs": []
    },
    {
      "cell_type": "code",
      "source": [
        "from langgraph.graph import StateGraph, END\n",
        "\n",
        "workflow = StateGraph(AgentState)\n",
        "\n",
        "workflow.add_node(\"tavily\", tavily_node)\n",
        "workflow.add_node(\"duckduckgo\", ddg_node)\n",
        "workflow.add_node(\"serpapi\", serp_node)\n",
        "\n",
        "workflow.set_entry_point(\"tavily\")\n",
        "\n",
        "# --- Conditional edges ---\n",
        "workflow.add_conditional_edges(\n",
        "    \"tavily\",\n",
        "    # condition function -> must return a string label\n",
        "    lambda s: \"fail\" if s[\"error_message\"] else \"success\",\n",
        "    {\n",
        "        \"success\": END,\n",
        "        \"fail\": \"duckduckgo\"\n",
        "    },\n",
        ")\n",
        "\n",
        "workflow.add_conditional_edges(\n",
        "    \"duckduckgo\",\n",
        "    lambda s: \"fail\" if s[\"error_message\"] else \"success\",\n",
        "    {\n",
        "        \"success\": END,\n",
        "        \"fail\": \"serpapi\"\n",
        "    },\n",
        ")\n",
        "\n",
        "# SerpAPI is the last fallback\n",
        "workflow.add_edge(\"serpapi\", END)\n",
        "\n",
        "graph = workflow.compile()\n"
      ],
      "metadata": {
        "id": "Wt4zlQ_-scLw"
      },
      "execution_count": 90,
      "outputs": []
    },
    {
      "cell_type": "code",
      "source": [
        "from IPython.display import Image, display\n",
        "\n",
        "display(Image(graph.get_graph().draw_mermaid_png()))"
      ],
      "metadata": {
        "colab": {
          "base_uri": "https://localhost:8080/",
          "height": 497
        },
        "id": "LYbFQKITtWEa",
        "outputId": "5cbeaa28-a73e-4ad7-c0b4-70fb87b6eab8"
      },
      "execution_count": 91,
      "outputs": [
        {
          "output_type": "display_data",
          "data": {
            "image/png": "[encoded data removed]",
            "text/plain": [
              "<IPython.core.display.Image object>"
            ]
          },
          "metadata": {}
        }
      ]
    },
    {
      "cell_type": "code",
      "source": [
        "# This passes a dictionary that matches the AgentState structure\n",
        "initial_state = {\"query\": \"What is the weather in San Francisco?\"}\n",
        "graph.invoke(initial_state)"
      ],
      "metadata": {
        "colab": {
          "base_uri": "https://localhost:8080/"
        },
        "id": "3uTdPDVKsjTA",
        "outputId": "abb1fc93-9477-4e1c-f497-108ac50c1fb6"
      },
      "execution_count": 92,
      "outputs": [
        {
          "output_type": "stream",
          "name": "stdout",
          "text": [
            "Tavily Search failed: string indices must be integers, not 'str'\n",
            "DuckDuckGo Search failed: string indices must be integers, not 'str'\n",
            "SerpAPI Search failed: Could not import serpapi python package. Please install it with `pip install google-search-results`.\n"
          ]
        },
        {
          "output_type": "execute_result",
          "data": {
            "text/plain": [
              "{'query': 'What is the weather in San Francisco?',\n",
              " 'result': None,\n",
              " 'error_message': 'Could not import serpapi python package. Please install it with `pip install google-search-results`.',\n",
              " 'successful_agent': None}"
            ]
          },
          "metadata": {},
          "execution_count": 92
        }
      ]
    }
  ]
}