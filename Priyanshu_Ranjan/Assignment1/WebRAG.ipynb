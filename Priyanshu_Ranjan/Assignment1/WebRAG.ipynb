{
  "nbformat": 4,
  "nbformat_minor": 0,
  "metadata": {
    "colab": {
      "provenance": []
    },
    "kernelspec": {
      "name": "python3",
      "display_name": "Python 3"
    },
    "language_info": {
      "name": "python"
    }
  },
  "cells": [
    {
      "cell_type": "code",
      "execution_count": null,
      "metadata": {
        "id": "gPSl1R2Om8sl"
      },
      "outputs": [],
      "source": [
        "!pip install -q langchain langchain-community langgraph duckduckgo-search tavily-python serpapi ddgs google-search-results langchain-tavily\n"
      ]
    },
    {
      "cell_type": "code",
      "source": [
        "from typing import Dict, Any, TypedDict, List\n",
        "from langchain_tavily import TavilySearch\n",
        "import requests\n",
        "from bs4 import BeautifulSoup\n",
        "import time\n",
        "from langchain_google_genai import ChatGoogleGenerativeAI\n",
        "from langchain_community.vectorstores import FAISS\n",
        "from langchain_community.tools.ddg_search.tool import DuckDuckGoSearchResults\n",
        "from langchain_community.utilities import SerpAPIWrapper\n",
        "from langgraph.graph import StateGraph, END\n",
        "from langchain.text_splitter import RecursiveCharacterTextSplitter\n",
        "from langchain.prompts import PromptTemplate\n",
        "from langchain_google_genai import GoogleGenerativeAIEmbeddings"
      ],
      "metadata": {
        "id": "cZY8JA5KnHwh"
      },
      "execution_count": null,
      "outputs": []
    },
    {
      "cell_type": "code",
      "source": [
        "import os\n",
        "from google.colab import userdata\n",
        "os.environ[\"SERPAPI_API_KEY\"]=userdata.get('SERPAPI_API_KEY')\n",
        "os.environ[\"TAVILY_API_KEY\"]=userdata.get('TAVILY_API_KEY')\n",
        "os.environ[\"GOOGLE_API_KEY\"] = userdata.get('GOOGLE_API_KEY')"
      ],
      "metadata": {
        "id": "QZPCvTOIDsDm"
      },
      "execution_count": null,
      "outputs": []
    },
    {
      "cell_type": "code",
      "source": [
        "class AgentState(TypedDict):\n",
        "    \"\"\"\n",
        "    Represents the state of our search agent graph.\n",
        "\n",
        "    Attributes:\n",
        "        query: The search query.\n",
        "        result: The result from a successful search.\n",
        "        error_message: Any error message encountered during a search attempt.\n",
        "        successful_agent: The name of the agent that successfully returned a result.\n",
        "    \"\"\"\n",
        "    query: str\n",
        "    result: Any\n",
        "    error_message: str\n",
        "    successful_agent: str\n",
        "    documents: List[str]  # To store scraped content\n",
        "    retrieved_context: str # To store relevant chunks\n",
        "    final_answer: str\n",
        "\n",
        "def tavily_agent(state:AgentState) -> Dict[str, Any]:\n",
        "  \"\"\"This node perfoms web search using Tavily agent. This is the primary preferred agent.\"\"\"\n",
        "  try:\n",
        "    tavily_tool = TavilySearch(max_results=5)\n",
        "    result = tavily_tool.invoke({\"query\" : state[\"query\"]})\n",
        "    print(\"Tavily raw result:\", result)\n",
        "    return {\"result\": result, \"successful_agent\": \"Tavily\"}\n",
        "  except Exception as e:\n",
        "    print(f\"Tavily Search failed: {e}\")\n",
        "    return {\"result\" : None, \"succesful_agent\" : None, \"error_message\" : str(e)}\n",
        "\n",
        "def ddg_agent(state: AgentState) -> Dict[str, Any]:\n",
        "    \"\"\"Fallback: This node performs web search using DuckDuckGo search agent if Tavily fails.\"\"\"\n",
        "    try:\n",
        "        ddg_tool = DuckDuckGoSearchResults(max_results=5)\n",
        "        result = ddg_tool.invoke({\"query\": state[\"query\"]})\n",
        "        return {\"result\": result, \"successful_agent\": \"DuckDuckGo\", \"error_message\": None}\n",
        "    except Exception as e:\n",
        "        print(f\"DuckDuckGo Search failed: {e}\")\n",
        "        return {\"result\": None, \"successful_agent\": None, \"error_message\": str(e)}\n",
        "\n",
        "def serpapi_agent(state: AgentState) -> Dict[str, Any]:\n",
        "    \"\"\"Fallback: This node performs web search using SerpAPI (Google) if Tavily and DuckDuckGo fail.\"\"\"\n",
        "    try:\n",
        "        serpapi_tool = SerpAPIWrapper()\n",
        "        result = serpapi_tool.run(state[\"query\"])\n",
        "        return {\"result\": result, \"successful_agent\": \"SerpAPI\", \"error_message\": None}\n",
        "    except Exception as e:\n",
        "        print(f\"SerpAPI Search failed: {e}\")\n",
        "        return {\"result\": None, \"successful_agent\": None, \"error_message\": str(e)}\n",
        "\n",
        "def web_search_agent(state: AgentState) -> Dict[str, Any]:\n",
        "    \"\"\"Tries agents in order: Tavily -> DuckDuckGo -> SerpAPI\"\"\"\n",
        "    for agent_fn in [tavily_agent, ddg_agent, serpapi_agent]:\n",
        "        response = agent_fn(state)\n",
        "        if response[\"result\"] is not None:\n",
        "            return response  # return first successful result\n",
        "    return {\"result\": None, \"successful_agent\": None, \"error_message\": \"All search agents failed\"}\n",
        "\n",
        "\n",
        "\n",
        "def scrape_urls_node(state: AgentState) -> AgentState:\n",
        "    \"\"\"Scrapes the content from the URLs found in the search result.\"\"\"\n",
        "    print(\"--- Scraping Content ---\")\n",
        "    scraped_docs = []\n",
        "    urls = [res['url'] for res in state[\"result\"][\"results\"]]\n",
        "\n",
        "    for url in urls:\n",
        "        try:\n",
        "            response = requests.get(url, timeout=10)\n",
        "            soup = BeautifulSoup(response.content, 'html.parser')\n",
        "            # Extract text and clean it up\n",
        "            text = soup.get_text().strip()\n",
        "            text = \" \".join(text.split())\n",
        "            scraped_docs.append(text)\n",
        "        except Exception as e:\n",
        "            print(f\"Failed to scrape {url}: {e}\")\n",
        "\n",
        "    return {**state, \"documents\": scraped_docs}\n",
        "\n",
        "\n",
        "def rag_node(state: AgentState) -> AgentState:\n",
        "    \"\"\"Performs RAG on the scraped documents using Gemini embeddings with rate limiting.\"\"\"\n",
        "    print(\"--- Performing RAG with Gemini Embeddings ---\")\n",
        "\n",
        "    # --- BATCHING & RATE LIMITING LOGIC ---\n",
        "\n",
        "    # 1. Initialize the embedding model\n",
        "    embeddings = GoogleGenerativeAIEmbeddings(model=\"models/embedding-001\")\n",
        "\n",
        "    # 2. Split documents into chunks\n",
        "    text_splitter = RecursiveCharacterTextSplitter(chunk_size=1000, chunk_overlap=200)\n",
        "    chunks = text_splitter.split_text(\" \".join(state[\"documents\"]))\n",
        "\n",
        "    # 3. Create the vector store by embedding chunks in batches\n",
        "    batch_size = 100  # The Gemini API has a batch size limit\n",
        "    vectorstore = None\n",
        "\n",
        "    for i in range(0, len(chunks), batch_size):\n",
        "        batch = chunks[i:i + batch_size]\n",
        "        if vectorstore is None:\n",
        "            # Create the store with the first batch\n",
        "            vectorstore = FAISS.from_texts(batch, embedding=embeddings)\n",
        "        else:\n",
        "            # Add subsequent batches to the existing store\n",
        "            vectorstore.add_texts(batch)\n",
        "\n",
        "        print(f\"Embedded batch {i//batch_size + 1}/{(len(chunks) - 1)//batch_size + 1}\")\n",
        "        time.sleep(1) # Pause for 1 second between batches to respect rate limits\n",
        "\n",
        "    # --- END OF BATCHING LOGIC ---\n",
        "\n",
        "    retriever = vectorstore.as_retriever()\n",
        "    relevant_chunks = retriever.get_relevant_documents(state[\"query\"])\n",
        "    context = \"\\n\\n\".join([doc.page_content for doc in relevant_chunks])\n",
        "\n",
        "    return {**state, \"retrieved_context\": context}\n",
        "\n",
        "def generate_answer_node(state: AgentState) -> AgentState:\n",
        "    \"\"\"Generates a final answer using the retrieved context.\"\"\"\n",
        "    print(\"--- Generating Final Answer with LLM ---\")\n",
        "    prompt_template = \"\"\"Based on the following context, please provide a concise answer to the question.\n",
        "\n",
        "    Context:\n",
        "    {context}\n",
        "\n",
        "    Question:\n",
        "    {question}\n",
        "    \"\"\"\n",
        "    prompt = PromptTemplate(\n",
        "        template=prompt_template,\n",
        "        input_variables=[\"context\", \"question\"],\n",
        "    )\n",
        "\n",
        "    llm = ChatGoogleGenerativeAI(model=\"gemini-2.5-flash\", temperature=0.7)\n",
        "\n",
        "    chain = prompt | llm\n",
        "    answer = chain.invoke({\n",
        "        \"context\": state[\"retrieved_context\"],\n",
        "        \"question\": state[\"query\"]\n",
        "    })\n",
        "\n",
        "    return {**state, \"final_answer\": answer.content}"
      ],
      "metadata": {
        "id": "b_6B6ZTZqkXb"
      },
      "execution_count": null,
      "outputs": []
    },
    {
      "cell_type": "code",
      "source": [
        "def tavily_node(state: AgentState) -> AgentState:\n",
        "    # Pass the whole state dictionary, not just the query string\n",
        "    response = tavily_agent(state)\n",
        "    return {**state, **response}\n",
        "\n",
        "def ddg_node(state: AgentState) -> AgentState:\n",
        "    # Pass the whole state dictionary\n",
        "    response = ddg_agent(state)\n",
        "    return {**state, **response}\n",
        "\n",
        "def serp_node(state: AgentState) -> AgentState:\n",
        "    # Pass the whole state dictionary\n",
        "    response = serpapi_agent(state)\n",
        "    return {**state, **response}"
      ],
      "metadata": {
        "id": "63h3Wx5rqtsl"
      },
      "execution_count": null,
      "outputs": []
    },
    {
      "cell_type": "code",
      "source": [
        "from langgraph.graph import StateGraph, END\n",
        "\n",
        "workflow = StateGraph(AgentState)\n",
        "\n",
        "workflow.add_node(\"tavily\", tavily_node)\n",
        "workflow.add_node(\"duckduckgo\", ddg_node)\n",
        "workflow.add_node(\"serpapi\", serp_node)\n",
        "workflow.add_node(\"scrape_urls\", scrape_urls_node)\n",
        "workflow.add_node(\"rag\", rag_node)\n",
        "workflow.add_node(\"generate_answer\", generate_answer_node)\n",
        "\n",
        "workflow.set_entry_point(\"tavily\")\n",
        "\n",
        "\n",
        "workflow.add_conditional_edges(\n",
        "    \"tavily\",\n",
        "    lambda s: \"fail\" if s.get(\"error_message\") else \"success\",\n",
        "    {\n",
        "        \"success\": \"scrape_urls\",\n",
        "        \"fail\": \"duckduckgo\"\n",
        "    },\n",
        ")\n",
        "\n",
        "workflow.add_conditional_edges(\n",
        "    \"duckduckgo\",\n",
        "    lambda s: \"fail\" if s.get(\"error_message\") else \"success\",\n",
        "    {\n",
        "        \"success\": \"scrape_urls\",\n",
        "        \"fail\": \"serpapi\"\n",
        "    },\n",
        ")\n",
        "\n",
        "workflow.add_conditional_edges(\n",
        "    \"serpapi\",\n",
        "     lambda s: \"fail\" if s.get(\"error_message\") else \"success\",\n",
        "    {\n",
        "        \"success\": \"scrape_urls\",\n",
        "        \"fail\": END\n",
        "    },\n",
        ")\n",
        "\n",
        "\n",
        "workflow.add_edge(\"scrape_urls\", \"rag\")\n",
        "workflow.add_edge(\"rag\", \"generate_answer\")\n",
        "workflow.add_edge(\"generate_answer\", END)\n",
        "\n",
        "graph = workflow.compile()\n"
      ],
      "metadata": {
        "id": "Wt4zlQ_-scLw"
      },
      "execution_count": null,
      "outputs": []
    },
    {
      "cell_type": "code",
      "source": [
        "from IPython.display import Image, display\n",
        "\n",
        "display(Image(graph.get_graph().draw_mermaid_png()))"
      ],
      "metadata": {
        "colab": {
          "base_uri": "https://localhost:8080/",
          "height": 819
        },
        "id": "LYbFQKITtWEa",
        "outputId": "25ce0abc-a28c-4593-b9d1-2d1bc0d740e4"
      },
      "execution_count": null,
      "outputs": [
        {
          "output_type": "display_data",
          "data": {
            "image/png": "[encoded data removed]",
            "text/plain": [
              "<IPython.core.display.Image object>"
            ]
          },
          "metadata": {}
        }
      ]
    },
    {
      "cell_type": "code",
      "source": [
        "initial_state = {\"query\": \"What is the latest news in quantum computing?\"}\n",
        "final_state = graph.invoke(initial_state)\n",
        "print(\"\\\\n--- FINAL ANSWER ---\")\n",
        "print(final_state[\"final_answer\"])"
      ],
      "metadata": {
        "colab": {
          "base_uri": "https://localhost:8080/"
        },
        "id": "fU-RWoQN8jRD",
        "outputId": "3dcef3d2-8a99-4f83-ee1a-881b7733da13"
      },
      "execution_count": null,
      "outputs": [
        {
          "output_type": "stream",
          "name": "stdout",
          "text": [
            "Tavily raw result: {'query': 'What is the latest news in quantum computing?', 'follow_up_questions': None, 'answer': None, 'images': [], 'results': [{'url': 'https://phys.org/tags/quantum+computing/', 'title': 'Quantum Computing - latest research news and features', 'content': 'News on quantum computing · MRI technology inspires quantum advancement with 2D materials · How to build larger, more reliable quantum computers, even with', 'score': 0.78944516, 'raw_content': None}, {'url': 'https://thequantuminsider.com/', 'title': 'The Quantum Insider: Quantum Computing News & Top Stories', 'content': 'Quantum National News · French National Quantum Update: August 2025 · EU Gives Greater Access to Quantum Computers to Accelerate Next-Generation Technology.', 'score': 0.78670514, 'raw_content': None}, {'url': 'https://www.bbc.com/news/topics/cyz9ex69xwlt', 'title': 'Quantum computing - BBC News', 'content': \"State-of-the-art quantum computer switched on. Dr Chris Ballance says the new quantum computer 'uses less power than an electric kettle'. 13 Aug 2025.\", 'score': 0.75442725, 'raw_content': None}, {'url': 'https://www.sciencedaily.com/news/computers_math/quantum_computers/', 'title': 'Quantum Computers News', 'content': 'Researchers have unveiled a new quantum material that could make quantum computers much more stable by using magnetism to protect delicate', 'score': 0.752468, 'raw_content': None}, {'url': 'https://www.wired.com/tag/quantum-computing/', 'title': 'Quantum Computing | Latest News, Photos & Videos', 'content': 'A New Quantum Algorithm Speeds Up Solving a Huge Class of Problems ... Quantum Computing Is Dead. Long Live Quantum Computing! Business. Quantum Computing Is Dead', 'score': 0.7173491, 'raw_content': None}], 'response_time': 1.07, 'request_id': '502efd46-72a2-4a84-a7cb-6e9cdd236d93'}\n",
            "--- Scraping Content ---\n",
            "--- Performing RAG with Gemini Embeddings ---\n",
            "Embedded batch 1/1\n",
            "--- Generating Final Answer with LLM ---\n",
            "\\n--- FINAL ANSWER ---\n",
            "The latest news in quantum computing includes:\n",
            "*   **August 29, 2025:** Scientists created a scalable quantum node linking light and matter.\n",
            "*   **August 27, 2025:** Caltech achieved a breakthrough that makes quantum memory last 30 times longer.\n",
            "*   **August 25, 2025:** Scientists turned spin loss into energy, unlocking ultra-low-power AI chips.\n"
          ]
        }
      ]
    },
    {
      "cell_type": "code",
      "source": [
        "!pip install -q langchain-google-genai beautifulsoup4 faiss-cpu"
      ],
      "metadata": {
        "id": "lR0-i0sRfPS9"
      },
      "execution_count": null,
      "outputs": []
    }
  ]
}