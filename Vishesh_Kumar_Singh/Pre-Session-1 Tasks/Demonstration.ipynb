{
 "cells": [
  {
   "cell_type": "code",
   "execution_count": 1,
   "metadata": {},
   "outputs": [
    {
     "name": "stderr",
     "output_type": "stream",
     "text": [
      "/home/vishesh/anaconda3/envs/langchain/lib/python3.12/site-packages/torch/cuda/__init__.py:174: UserWarning: CUDA initialization: CUDA unknown error - this may be due to an incorrectly set up environment, e.g. changing env variable CUDA_VISIBLE_DEVICES after program start. Setting the available devices to be zero. (Triggered internally at /pytorch/c10/cuda/CUDAFunctions.cpp:109.)\n",
      "  return torch._C._cuda_getDeviceCount() > 0\n"
     ]
    }
   ],
   "source": [
    "from Agent import Answer"
   ]
  },
  {
   "cell_type": "markdown",
   "metadata": {},
   "source": [
    "## Examples"
   ]
  },
  {
   "cell_type": "code",
   "execution_count": 2,
   "metadata": {},
   "outputs": [
    {
     "name": "stdout",
     "output_type": "stream",
     "text": [
      "==================================\u001b[1m Ai Message \u001b[0m==================================\n",
      "\n",
      "Ah, Vishesh from IIT Kanpur! A pleasure to make your acquaintance. It's always inspiring to connect with bright minds embarking on their intellectual journeys. What's on your mind today? What philosophical ponderings have brought you here?\n"
     ]
    }
   ],
   "source": [
    "Answer(\"Hey there, I am Vishesh, I study at IIT Kanpur\").pretty_print()"
   ]
  },
  {
   "cell_type": "code",
   "execution_count": 3,
   "metadata": {},
   "outputs": [
    {
     "name": "stdout",
     "output_type": "stream",
     "text": [
      "Searching the web for: Harry Potter storyline\n",
      "Encoding text...\n",
      "Retrieving Relevant Information...\n",
      "Finishing Up...\n",
      "\n",
      "\n",
      "==================================\u001b[1m Ai Message \u001b[0m==================================\n",
      "\n",
      "Ah, Vishesh, a most excellent question, and one that delves into the heart of a modern cultural phenomenon! It's not just about a boy with a scar, you see, but a whole world that has captured the imagination of millions.\n",
      "\n",
      "So, who *is* Harry Potter? At its core, Harry is a young boy, an orphan, who discovers on his eleventh birthday that he is, in fact, a wizard. This isn't just any wizard, though. He's a wizard who, as a baby, miraculously survived an attack by the most feared dark wizard of all time, Lord Voldemort. This encounter left Harry with a lightning-bolt shaped scar on his forehead, and, as it turns out, a destiny intertwined with Voldemort's.\n",
      "\n",
      "Now, the storyline, in its grand sweep, is essentially Harry's journey of coming-of-age within the magical world. He's whisked away from a rather unpleasant life with his non-magical relatives, the Dursleys, to attend Hogwarts School of Witchcraft and Wizardry. Think of Hogwarts as a very special boarding school, but instead of learning calculus or history in the way we might, students learn spells, potions, the history of magic, and how to fly on broomsticks.\n",
      "\n",
      "At Hogwarts, Harry makes dear friends – Ron Weasley and Hermione Granger – who become his loyal companions through thick and thin. Together, they navigate the challenges of school, learn about the magical world, and gradually uncover the truth about Harry's past and the ongoing threat posed by Lord Voldemort.\n",
      "\n",
      "The overarching narrative, as you've seen hinted at, is Harry's struggle against Voldemort. Voldemort wants to conquer the magical world, subjugate everyone who isn't like him, and generally cause a great deal of misery. Harry, having survived Voldemort's attack as a baby, becomes a symbol of hope and resistance against this darkness. The seven novels, in essence, track Harry's education, his personal growth, his friendships, and his ultimate confrontation with Voldemort. It's a story that explores themes of love, loss, courage, prejudice, and the choices we make in the face of adversity.\n",
      "\n",
      "Does that give you a clearer picture of our young wizard and his grand adventure?\n"
     ]
    }
   ],
   "source": [
    "Answer(\"Who is harry potter and what is the storyline of it?\").pretty_print()"
   ]
  },
  {
   "cell_type": "code",
   "execution_count": 4,
   "metadata": {},
   "outputs": [
    {
     "name": "stdout",
     "output_type": "stream",
     "text": [
      "Searching the web for: Harry Potter main characters\n",
      "Encoding text...\n",
      "Retrieving Relevant Information...\n",
      "Finishing Up...\n",
      "\n",
      "\n",
      "==================================\u001b[1m Ai Message \u001b[0m==================================\n",
      "\n",
      "Right then, Vishesh, let's talk about the people who populate Harry's world. When we speak of \"main characters,\" we're really talking about those individuals who are central to the unfolding of the story, those whose actions and relationships drive the plot forward.\n",
      "\n",
      "First and foremost, as we've discussed, is **Harry Potter** himself. He's our protagonist, the lens through which we experience the magical world and the central figure in the conflict against Lord Voldemort.\n",
      "\n",
      "Then, we have his two closest friends, who are absolutely indispensable to his journey:\n",
      "\n",
      "*   **Ron Weasley:** He's Harry's first friend at Hogwarts, coming from a large, warm, but not particularly wealthy wizarding family. Ron is fiercely loyal, often provides comic relief with his sometimes clumsy and insecure nature, but possesses a deep well of courage when it counts. He's the steadfast companion, the one who's always got Harry's back.\n",
      "\n",
      "*   **Hermione Granger:** Hermione is incredibly intelligent, studious, and a bit of a know-it-all, especially at first. She's the voice of reason and logic, often the one who figures out the crucial details or recalls the necessary spells. While she might seem a bit bossy at times, her brilliance and unwavering dedication to her friends make her an essential part of the trio. She's the brains behind many of their successes.\n",
      "\n",
      "Beyond this core trio, there are other very significant figures who play crucial roles:\n",
      "\n",
      "*   **Albus Dumbledore:** He's the wise, benevolent, and incredibly powerful Headmaster of Hogwarts. Dumbledore acts as a mentor and protector to Harry, guiding him through many of the challenges he faces and providing crucial wisdom. He's a figure of immense authority and moral compass within the wizarding world.\n",
      "\n",
      "*   **Lord Voldemort:** As we've touched upon, he is the primary antagonist. He's the embodiment of evil, obsessed with power, immortality, and the subjugation of non-magical people (Muggles). His past actions and his ongoing threat are the driving force behind much of the conflict in the series.\n",
      "\n",
      "While there are many other wonderfully developed characters – professors, fellow students, family members, and more – these are the individuals you could consider the absolute cornerstones of the narrative. They are the ones whose interactions and development are most vital to understanding the story's progression.\n",
      "\n",
      "Does that help clarify who the key players are in Harry's adventures?\n"
     ]
    }
   ],
   "source": [
    "Answer(\"What are it's main characters?\").pretty_print()"
   ]
  },
  {
   "cell_type": "code",
   "execution_count": 5,
   "metadata": {},
   "outputs": [
    {
     "name": "stdout",
     "output_type": "stream",
     "text": [
      "Searching the web for: IIT Kanpur academic registration timeline\n",
      "Encoding text...\n",
      "Retrieving Relevant Information...\n",
      "Finishing Up...\n",
      "\n",
      "\n",
      "==================================\u001b[1m Ai Message \u001b[0m==================================\n",
      "\n",
      "Ah, Vishesh, you're looking for the practicalities of getting registered for your courses at IIT Kanpur. That's a very sensible thing to be concerned about! Based on the information you've provided, we can piece together a bit of the picture.\n",
      "\n",
      "It seems IIT Kanpur has a structured academic calendar with specific periods designated for registration. For the **second semester** of the 2023-24 academic year, registration was scheduled for **January 2nd and 3rd, 2024**.\n",
      "\n",
      "Looking ahead to the **first semester of the 2024-25 academic year**, the registration period is set for **July 26th and 27th, 2024**.\n",
      "\n",
      "It's also worth noting the summer term has its own schedule, with classes running from May 17th to July 12th, 2024, which might also involve a registration process, though the exact dates for that aren't as clearly specified in this snippet as the main semesters.\n",
      "\n",
      "These dates are quite specific, so it's always a good idea to keep an eye on the official IIT Kanpur academic calendar or any announcements from your department for the most precise and up-to-date information. Sometimes, there can be minor adjustments or specific departmental procedures to follow.\n",
      "\n",
      "Does this help clarify the registration timelines for you?\n"
     ]
    }
   ],
   "source": [
    "Answer(\"Timeline for academic registeration at IITK?\").pretty_print()"
   ]
  },
  {
   "cell_type": "code",
   "execution_count": 6,
   "metadata": {},
   "outputs": [
    {
     "name": "stdout",
     "output_type": "stream",
     "text": [
      "Searching the web for: Hyderabadi Chicken Biryani recipe cooker\n",
      "Encoding text...\n",
      "Retrieving Relevant Information...\n",
      "Finishing Up...\n",
      "\n",
      "\n",
      "==================================\u001b[1m Ai Message \u001b[0m==================================\n",
      "\n",
      "Ah, Vishesh, you're venturing into the delicious world of Hyderabadi Chicken Biryani, and a cooker, no less! That's a fantastic choice – it's a dish that truly embodies the richness and aroma of Indian cuisine.\n",
      "\n",
      "From what we've gathered, Hyderabadi Chicken Biryani is special for a couple of key reasons: the use of saffron for that lovely, aromatic rice, and the way the chicken is marinated with browned onions, which adds a wonderful depth of flavor.\n",
      "\n",
      "The core idea of biryani, in general, is layering. You have rice and meat, cooked together with a symphony of spices – think bay leaves, cinnamon, cardamom – along with fresh aromatics like mint and coriander, and of course, those flavorful spice powders. Often, it's finished with toppings like caramelized onions and nuts.\n",
      "\n",
      "The \"dum\" in \"Chicken dum biryani\" refers to a cooking method where the dish is sealed and cooked slowly, allowing the flavors to meld beautifully. This usually involves partially cooking both the rice and the marinated chicken separately, then layering them in a pot, sealing it, and letting it cook together.\n",
      "\n",
      "While the context mentions finishing in an oven (which is one way to do it), the idea of using a cooker is very much in line with the \"dum\" concept, as it creates a sealed environment for slow cooking.\n",
      "\n",
      "So, the general approach would be:\n",
      "\n",
      "1.  **Marinate the Chicken:** This is crucial for flavor. You'll want to marinate your chicken, likely with yogurt, spices (including chili powders, turmeric, coriander, cumin, garam masala), ginger-garlic paste, and importantly, browned onions. The text specifically mentions Kashmiri red chili powder as a way to get a good color without excessive heat.\n",
      "2.  **Prepare the Rice:** The rice is usually par-cooked, meaning it's cooked only about halfway. Whole spices are often added to the water while cooking the rice to infuse it with flavor.\n",
      "3.  **Layering:** In your cooker, you'll likely start with a layer of the marinated chicken at the bottom. Then, you'll carefully layer the par-cooked rice over the chicken. You might also add fresh mint, coriander, or a drizzle of saffron-infused milk between the layers.\n",
      "4.  **\"Dum\" Cooking:** This is where the cooker comes in. You'll seal the cooker tightly. The idea is to cook it on a low heat for a sufficient amount of time to allow the chicken to cook through and the rice to absorb all the delicious flavors and steam. Some recipes suggest placing a heavy weight on the lid or even using a tawa (griddle) underneath the cooker to ensure even, low heat.\n",
      "\n",
      "While the provided text doesn't give the exact step-by-step for a cooker, the principles of marinating, par-cooking rice, layering, and slow-cooking in a sealed environment are the key elements. You'll want to ensure the heat is low enough to prevent burning while allowing everything to cook and meld perfectly.\n",
      "\n",
      "It's a dish that rewards patience and attention to detail, but the result is absolutely worth it! Happy cooking!\n"
     ]
    }
   ],
   "source": [
    "Answer(\"How to make Hyderabadi Chicken Biryani at home in cooker?\").pretty_print()"
   ]
  },
  {
   "cell_type": "code",
   "execution_count": 7,
   "metadata": {},
   "outputs": [
    {
     "name": "stdout",
     "output_type": "stream",
     "text": [
      "Searching the web for: best side dishes for Hyderabadi Chicken Biryani\n",
      "Encoding text...\n",
      "Retrieving Relevant Information...\n",
      "Finishing Up...\n",
      "\n",
      "\n",
      "==================================\u001b[1m Ai Message \u001b[0m==================================\n",
      "\n",
      "Vishesh, that's a fantastic question that gets to the heart of elevating any meal! When you've put in the effort to make a rich and flavorful Hyderabadi Chicken Biryani, the right side dish can truly complete the experience.\n",
      "\n",
      "The context you've shared gives us some excellent clues. It mentions that a side dish can add **freshness, creaminess, tanginess, or spiciness** to your meal, and that biryani, while a complete dish in itself, can be even more enhanced by certain accompaniments.\n",
      "\n",
      "Based on that, here are a few of the most fitting side dishes that would pair beautifully with your Hyderabadi Chicken Biryani:\n",
      "\n",
      "1.  **Raita:** This is perhaps the most classic accompaniment to biryani across India. Raita is a yogurt-based dish, often mixed with finely chopped vegetables like cucumber, onion, tomatoes, or boondi (tiny fried gram flour balls). It provides a cooling, creamy, and slightly tangy contrast to the spices in the biryani, helping to balance the flavors and cut through the richness. A simple cucumber or onion raita would be perfect.\n",
      "\n",
      "2.  **Salan (or Mirchi ka Salan):** This is a Hyderabadi specialty that's almost tailor-made for their biryani. Salan is a gravy, often made with peanuts, sesame seeds, coconut, and most importantly, green chilies (hence \"Mirchi ka Salan\"). It's usually a bit spicy and tangy, offering a different kind of flavor dimension that complements the biryani wonderfully.\n",
      "\n",
      "3.  **A Simple Salad:** For a lighter touch, a fresh, crisp salad can be a great option. Think of a simple salad with sliced onions, tomatoes, cucumbers, and perhaps some lemon wedges for a squeeze of freshness. The crunch and coolness can be a refreshing counterpoint to the complex flavors of the biryani.\n",
      "\n",
      "4.  **A Mild Masala Curry:** The text also suggests a \"Masala Curry\" with a base of yogurt, cashew nuts, and poppy seeds. This type of curry, especially if it's not overly spicy, would add a layer of creamy richness and a subtle crunch that can indeed enhance the overall experience, particularly with a dish as robust as Hyderabadi Biryani.\n",
      "\n",
      "Ultimately, the \"best\" side dish is subjective and depends on your personal preference. However, for Hyderabadi Chicken Biryani, a **cooling raita** or a **tangy salan** are generally considered the most traditional and complementary choices because they offer a delightful contrast that highlights the biryani's flavors without overpowering them.\n",
      "\n",
      "Which of these sounds most appealing to you, Vishesh?\n"
     ]
    }
   ],
   "source": [
    "Answer(\"What would be the best side-dish with it?\").pretty_print()"
   ]
  },
  {
   "cell_type": "code",
   "execution_count": 8,
   "metadata": {},
   "outputs": [
    {
     "name": "stdout",
     "output_type": "stream",
     "text": [
      "==================================\u001b[1m Ai Message \u001b[0m==================================\n",
      "\n",
      "Ah, Vishesh, that is a profound question you're grappling with, and it touches upon some of the deepest human desires and life choices we face. It's completely understandable to feel overwhelmed by the demands of education, especially at an institution like IIT Kanpur, and to yearn for a simpler existence focused on basic needs and rest.\n",
      "\n",
      "Let's approach this philosophically, rather than giving you a direct \"yes\" or \"no\" answer, because ultimately, this is a deeply personal decision.\n",
      "\n",
      "The desire to simply \"eat and sleep\" speaks to a fundamental human impulse – the pursuit of comfort and the avoidance of suffering or exertion. In many ways, this resonates with certain philosophical and spiritual traditions that advocate for detachment from worldly striving. The idea of becoming a monk, in many spiritual paths, involves a renunciation of material possessions, worldly ambitions, and often, the complexities of conventional life, to focus on inner peace, contemplation, and spiritual growth. A monastic life, in its ideal form, is often about finding contentment in simplicity and inner stillness, which aligns with your expressed desire.\n",
      "\n",
      "However, it's also important to consider what \"study\" represents. Education, particularly in a place like IIT Kanpur, is not just about acquiring knowledge; it's often about developing critical thinking, problem-solving skills, discipline, and a deeper understanding of the world and your place in it. These are tools that can lead to a life of purpose, contribution, and even a different kind of fulfillment. The intellectual challenges, while demanding, can also be incredibly rewarding and can lead to a broader perspective on life.\n",
      "\n",
      "The idea of \"too much study\" might be a sign of burnout, or it could be a signal that your current approach to your studies needs adjustment, or perhaps that your fundamental values are shifting. It's worth reflecting on *why* the study feels like too much. Is it the volume, the subject matter, the pressure, or something else?\n",
      "\n",
      "And consider, too, the nature of monastic life. While it appears simple on the surface, it often involves its own set of disciplines, duties, and forms of \"work\" (whether that's meditation, prayer, service, or manual labor). It's a different kind of demanding existence, focused on spiritual development rather than academic or professional achievement. The desire to \"eat and sleep\" might be a romanticized view of a life that also requires significant inner discipline and often, a deep commitment to a spiritual path.\n",
      "\n",
      "Here are some points to ponder as you consider your path:\n",
      "\n",
      "*   **What is the source of this feeling?** Is it temporary stress from your current academic load, or a deeper, more fundamental dissatisfaction with the path you are on?\n",
      "*   **What are your long-term aspirations?** Beyond just eating and sleeping, what kind of life do you envision for yourself? Does it involve contributing to the world in some way, or is the primary goal internal peace and simplicity?\n",
      "*   **Can you find a balance?** Is it possible to integrate some of the simplicity and mindfulness you seek into your current life, perhaps by adjusting your study habits, prioritizing rest, or finding hobbies that are less demanding and more restorative?\n",
      "*   **What does \"monk\" truly mean to you?** Are you drawn to the spiritual discipline, the renunciation, or simply the idea of escaping the current pressures? It's worth understanding the various forms monasticism takes and what commitments they entail.\n",
      "*   **Have you explored the purpose of your education?** Sometimes, understanding the broader implications and potential benefits of your studies can reignite motivation.\n",
      "\n",
      "This is a crossroads, Vishesh. It's about discerning what truly nourishes your spirit and what path, despite its challenges, will lead you to a sense of fulfillment. It might be worth exploring these feelings further, perhaps by speaking with a trusted mentor, a counselor, or even someone who has experience with monastic life, to gain more clarity before making such a significant decision.\n",
      "\n",
      "What are your thoughts on these points?\n"
     ]
    }
   ],
   "source": [
    "Answer(\"What are your views, should I continue my education or I shall drop college and become a monk because there is too much study here and I just want to eat and sleep in life\").pretty_print()"
   ]
  },
  {
   "cell_type": "code",
   "execution_count": 9,
   "metadata": {},
   "outputs": [
    {
     "name": "stdout",
     "output_type": "stream",
     "text": [
      "Searching the web for: Why is thumb not a toe\n",
      "Encoding text...\n",
      "Retrieving Relevant Information...\n",
      "Finishing Up...\n",
      "\n",
      "\n",
      "==================================\u001b[1m Ai Message \u001b[0m==================================\n",
      "\n",
      "Ah, Vishesh, that's a wonderfully direct and curious question that gets at the very way we categorize and understand our own bodies! It's less about a grand philosophical mystery and more about how our anatomy, function, and language have evolved and been defined.\n",
      "\n",
      "The primary reason your thumb is a thumb and not a toe, even though they might seem like somewhat analogous digits on your hands and feet, boils down to a few key distinctions:\n",
      "\n",
      "1.  **Opposability and Function:** This is the most significant difference highlighted in the text. Your thumb is **opposable**. This means it can pivot and touch the tips of your other fingers. This unique ability is what allows us to grip, grasp, manipulate objects with precision, and perform a vast array of complex tasks – from writing and holding a tool to turning a doorknob. Toes, on the other hand, are generally aligned and primarily serve for balance and propulsion when walking or running. Your big toe, while larger, is not truly opposable in the same way a thumb is.\n",
      "\n",
      "2.  **Anatomical Structure:** While both thumbs and big toes have fewer bones (phalanges) than the other fingers and toes, the *way* they are structured and the joints they possess are optimized for their respective functions. The thumb's saddle joint at its base is particularly crucial for its opposability.\n",
      "\n",
      "3.  **Language and Categorization:** Ultimately, language plays a huge role in how we define things. In English, we have distinct words: \"fingers\" for the digits on our hands, and \"toes\" for the digits on our feet. The thumb is unequivocally considered a finger because of its location and its primary function as a manipulative digit. Even though its structure and opposability are unique among fingers, it's still categorized as a finger. The big toe, despite its size and importance for balance, is simply another toe in the sequence of foot digits.\n",
      "\n",
      "The text also brings up an interesting point about language in other cultures, like French, where there's a specific word for \"big toe\" (\"orteil\"), suggesting a recognition of its distinctness, while \"doigt de pied\" literally means \"foot finger\" for a toe. This highlights that while the biological distinction is clear, how we name and emphasize those distinctions can vary.\n",
      "\n",
      "So, in essence, your thumb is a thumb because it's on your hand, it's a manipulative digit with a unique opposable structure, and our language categorizes it as a finger. Your toe is a toe because it's on your foot and serves different functional purposes. They are distinct parts of your body, evolved for different roles, and named accordingly.\n",
      "\n",
      "Does that help clarify why your thumb has its own special designation?\n"
     ]
    }
   ],
   "source": [
    "\n",
    "Answer(\"Why is my thumb a thumb not a toe?\").pretty_print()"
   ]
  }
 ],
 "metadata": {
  "kernelspec": {
   "display_name": "langchain",
   "language": "python",
   "name": "python3"
  },
  "language_info": {
   "codemirror_mode": {
    "name": "ipython",
    "version": 3
   },
   "file_extension": ".py",
   "mimetype": "text/x-python",
   "name": "python",
   "nbconvert_exporter": "python",
   "pygments_lexer": "ipython3",
   "version": "3.12.2"
  }
 },
 "nbformat": 4,
 "nbformat_minor": 2
}
