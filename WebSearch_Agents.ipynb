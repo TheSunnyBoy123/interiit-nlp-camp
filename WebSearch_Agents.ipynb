{
 "cells": [
  {
   "cell_type": "code",
   "execution_count": 1,
   "id": "0a511785",
   "metadata": {},
   "outputs": [],
   "source": [
    "import getpass\n",
    "import os\n"
   ]
  },
  {
   "cell_type": "code",
   "execution_count": 2,
   "id": "7278e4af",
   "metadata": {},
   "outputs": [],
   "source": [
    "import requests\n",
    "\n",
    "def lobstr_search_function(query, api_key, max_results=2):\n",
    "    crawler_hash = \"google-serp-hash\"  \n",
    "    base_url = 'https://api.lobstr.io/v1/'\n",
    "    headers = {'Authorization': f'Token {api_key}'}\n",
    "    \n",
    "    create_squid_payload = {\n",
    "        \"crawler\": crawler_hash,\n",
    "        \"inputs\": {\n",
    "            \"query\": query,\n",
    "        }\n",
    "    }\n",
    "    response = requests.post(\n",
    "        base_url + 'squids', \n",
    "        json=create_squid_payload, \n",
    "        headers=headers\n",
    "    )\n",
    "    if not response.ok:\n",
    "        return None\n",
    "    squid_id = response.json().get('id')\n",
    "    if not squid_id:\n",
    "        return None\n",
    "    for _ in range(10):\n",
    "        result_resp = requests.get(base_url + f'squids/{squid_id}', headers=headers)\n",
    "        result_data = result_resp.json()\n",
    "        if result_data.get(\"status\") == \"finished\":\n",
    "            results = result_data.get('results', [])\n",
    "            return results[:max_results] if results else None\n",
    "        import time; time.sleep(1)\n",
    "    return None\n"
   ]
  },
  {
   "cell_type": "code",
   "execution_count": 4,
   "id": "b6d021cf",
   "metadata": {},
   "outputs": [],
   "source": [
    "from langchain_tavily import TavilySearch\n",
    "from langchain_community.utilities import SerpAPIWrapper\n",
    "from langchain.agents import Tool\n",
    "import os\n",
    "serp_search = SerpAPIWrapper(serpapi_api_key=getpass.getpass(\"Enter serpAPI key:\"))\n",
    "tavily_search = TavilySearch(max_results = 2, tavily_api_key = getpass.getpass(\"Enter tavily API key:\"))\n",
    "lobstr_api_key = getpass.getpass(\"Enter lobstr key:\")\n",
    "def lobstr_search(query):\n",
    "    return lobstr_search_function(query, api_key= lobstr_api_key , max_results=2)\n",
    "serp_tool = Tool(\n",
    "    name=\"SerpAPI Search\",\n",
    "    description=\"Search the web using SerpAPI\",\n",
    "    func=serp_search.run\n",
    ")\n",
    "tavily_tool = Tool(\n",
    "    name=\"Tavily Search\",\n",
    "    description=\"Search the web using Tavily\",\n",
    "    func=tavily_search.run\n",
    ")\n",
    "lobstr_tool = Tool(\n",
    "    name=\"lobstr_web_search\",\n",
    "    description=\"Search the web via Lobstr SERP API\",\n",
    "    func=lambda query: lobstr_search(query, api_key= lobstr_api_key, max_results=2)\n",
    ")\n"
   ]
  },
  {
   "cell_type": "code",
   "execution_count": 6,
   "id": "c177051c",
   "metadata": {},
   "outputs": [],
   "source": [
    "def safe_search(search_func, query):\n",
    "    try:\n",
    "        result = search_func(query)\n",
    "        if result is None or result == \"\" or (\n",
    "            isinstance(result, dict) and (\"error\" in result or \"Error\" in result)) or (\n",
    "            isinstance(result, str) and \"Error\" in result):\n",
    "            return None\n",
    "        return result\n",
    "    except Exception:\n",
    "        return None"
   ]
  },
  {
   "cell_type": "code",
   "execution_count": 7,
   "id": "e4371b77",
   "metadata": {},
   "outputs": [],
   "source": [
    "def combined_search(query):\n",
    "    result = safe_search(tavily_search.run, query)\n",
    "    if result:\n",
    "        return f\"Tavily result:\\n{result}\"\n",
    "    result = safe_search(serp_search.run, query)\n",
    "    if result:\n",
    "        return f\"SerpAPI result:\\n{result}\"\n",
    "    result = safe_search(lobstr_search, query)\n",
    "    if result:\n",
    "        return f\"Lobstr result:\\n{result}\"\n",
    "    return \"No information found from Tavily, SerpAPI and lobstr\"\n",
    "    \n",
    "fallback_tool = Tool(\n",
    "    name=\"Combined_web_search\",\n",
    "    description=\"Try Tavily, fallback to SerpAPI and lobstr if needed.\",\n",
    "    func=combined_search\n",
    ")"
   ]
  },
  {
   "cell_type": "code",
   "execution_count": 8,
   "id": "97c190ee",
   "metadata": {},
   "outputs": [],
   "source": [
    "tools = [fallback_tool]"
   ]
  },
  {
   "cell_type": "code",
   "execution_count": 10,
   "id": "800e45c9",
   "metadata": {},
   "outputs": [],
   "source": [
    "os.environ[\"MISTRAL_API_KEY\"] = getpass.getpass(\"Enter API key for Mistral: \")\n",
    "api = os.environ[\"MISTRAL_API_KEY\"]\n",
    "from langchain_mistralai import ChatMistralAI\n",
    "import os\n",
    "llm = ChatMistralAI(model=\"mistral-small-latest\", api_key=api)"
   ]
  },
  {
   "cell_type": "code",
   "execution_count": 11,
   "id": "c07722e9",
   "metadata": {},
   "outputs": [],
   "source": [
    "from langgraph.prebuilt import create_react_agent\n",
    "\n",
    "agent_executor = create_react_agent(llm, tools)"
   ]
  },
  {
   "cell_type": "code",
   "execution_count": 12,
   "id": "3a6b5a4f",
   "metadata": {},
   "outputs": [
    {
     "name": "stdout",
     "output_type": "stream",
     "text": [
      "================================\u001b[1m Human Message \u001b[0m=================================\n",
      "\n",
      "Whats the weather in bangalore\n",
      "==================================\u001b[1m Ai Message \u001b[0m==================================\n",
      "Tool Calls:\n",
      "  Combined_web_search (0SO8NbGFg)\n",
      " Call ID: 0SO8NbGFg\n",
      "  Args:\n",
      "    __arg1: weather in bangalore\n",
      "=================================\u001b[1m Tool Message \u001b[0m=================================\n",
      "Name: Combined_web_search\n",
      "\n",
      "Tavily result:\n",
      "{'query': 'weather in bangalore', 'follow_up_questions': None, 'answer': None, 'images': [], 'results': [{'title': 'Weather in Bangalore', 'url': 'https://www.weatherapi.com/', 'content': \"{'location': {'name': 'Bangalore', 'region': 'Karnataka', 'country': 'India', 'lat': 12.9833, 'lon': 77.5833, 'tz_id': 'Asia/Kolkata', 'localtime_epoch': 1755349870, 'localtime': '2025-08-16 18:41'}, 'current': {'last_updated_epoch': 1755349200, 'last_updated': '2025-08-16 18:30', 'temp_c': 23.1, 'temp_f': 73.6, 'is_day': 0, 'condition': {'text': 'Partly cloudy', 'icon': '//cdn.weatherapi.com/weather/64x64/night/116.png', 'code': 1003}, 'wind_mph': 16.8, 'wind_kph': 27.0, 'wind_degree': 266, 'wind_dir': 'W', 'pressure_mb': 1008.0, 'pressure_in': 29.77, 'precip_mm': 0.06, 'precip_in': 0.0, 'humidity': 83, 'cloud': 75, 'feelslike_c': 25.1, 'feelslike_f': 77.3, 'windchill_c': 22.0, 'windchill_f': 71.7, 'heatindex_c': 24.5, 'heatindex_f': 76.2, 'dewpoint_c': 18.4, 'dewpoint_f': 65.0, 'vis_km': 6.0, 'vis_miles': 3.0, 'uv': 0.0, 'gust_mph': 23.5, 'gust_kph': 37.9}}\", 'score': 0.973779, 'raw_content': None}, {'url': 'https://timesofindia.indiatimes.com/city/bengaluru/bangalore-weather-update-rainy-monsoon-with-pleasant-temperatures-and-tips-for-staying-cozy/articleshow/123327887.cms', 'title': 'Bengaluru weather: Mild temperatures with rain expected', 'content': '* News The data for this weather forecast has been sourced from AQI.in, providing residents with comprehensive information to plan their daily activities and weekly schedules accordingly.Bengaluru is set to experience a rainy day on August 16, 2025, with temperatures ranging between 19.5°C and 24.2°C. The latter part of the week will transition to drier conditions with partly cloudy skies.August 20 marks a notable change in the weather pattern, with temperatures rising to 25.8°C. ***Stay updated with the latest local news from your city on Times of India (TOI). Get the latest lifestyle updates on Times of India, along with Happy Krishna Janmashtami Wishes,, messages, and quotes !', 'score': 0.959766, 'raw_content': None}], 'response_time': 2.68, 'request_id': '877b5828-1326-45cf-a9b3-550ec6ab5ec8'}\n",
      "==================================\u001b[1m Ai Message \u001b[0m==================================\n",
      "\n",
      "The weather in Bangalore as of now is partly cloudy with a temperature of 23.1°C (73.6°F). The humidity is 83%, and there is a slight chance of precipitation with a cloud cover of 75%. The wind is blowing from the west at 27.0 kph (16.8 mph). It feels like 25.1°C (77.3°F) due to the humidity. The dew point is 18.4°C (65.0°F), and visibility is 6.0 km (3.0 miles). The UV index is 0.0, indicating no significant UV radiation. Gusts of wind are reaching up to 37.9 kph (23.5 mph) [REF]0SO8NbGFg[/REF].\n"
     ]
    }
   ],
   "source": [
    "input_message = {\n",
    "    \"role\": \"user\",\n",
    "    \"content\": \"Whats the weather in bangalore\",\n",
    "}\n",
    "\n",
    "for step in agent_executor.stream(\n",
    "    {\"messages\": [input_message]}, stream_mode=\"values\"\n",
    "):\n",
    "    step[\"messages\"][-1].pretty_print()"
   ]
  }
 ],
 "metadata": {
  "kernelspec": {
   "display_name": "penv",
   "language": "python",
   "name": "python3"
  },
  "language_info": {
   "codemirror_mode": {
    "name": "ipython",
    "version": 3
   },
   "file_extension": ".py",
   "mimetype": "text/x-python",
   "name": "python",
   "nbconvert_exporter": "python",
   "pygments_lexer": "ipython3",
   "version": "3.11.12"
  }
 },
 "nbformat": 4,
 "nbformat_minor": 5
}
